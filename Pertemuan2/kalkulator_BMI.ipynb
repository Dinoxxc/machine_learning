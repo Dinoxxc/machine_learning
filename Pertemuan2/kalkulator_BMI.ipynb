{
 "cells": [
  {
   "cell_type": "markdown",
   "metadata": {},
   "source": [
    "# **Kalkulator BMI**\n",
    "## Machine Learning\n",
    "\n",
    "<img src=\"https://upload.wikimedia.org/wikipedia/commons/6/68/LOGO_UEU_BY_ASU-06.png\" width=50% height=50%>\n",
    "\n",
    "<table style=\"width:75%\">\n",
    "  <tr>\n",
    "    <td><b>Dosen Pengampu</b></td>\n",
    "    <td>Jefry Sunupurwa Asri , S.Kom., M.Kom.</td>\n",
    "   </tr>\n",
    "  <tr>\n",
    "    <td><b>Mahasiswa</b></td>\n",
    "    <td>Andika Noor Ismawan</td>\n",
    "  </tr>\n",
    "  <tr>\n",
    "    <td><b>NIM</b></td>\n",
    "    <td>20210801465</td>\n",
    "  </tr>\n",
    "</table>"
   ]
  },
  {
   "cell_type": "markdown",
   "metadata": {},
   "source": [
    "**Buatlah contoh pemograman python sederhana dengan jupyter notebook nya.**"
   ]
  },
  {
   "cell_type": "code",
   "execution_count": 2,
   "metadata": {},
   "outputs": [
    {
     "name": "stdout",
     "output_type": "stream",
     "text": [
      "Nama: Mas Arief\n",
      "Umur: 28 tahun\n",
      "Jenis Kelamin: Pria\n",
      "BMI Anda adalah 32.60\n",
      "Status BMI Anda: Obesitas\n"
     ]
    }
   ],
   "source": [
    "def hitung_bmi(berat, tinggi):\n",
    "    bmi = berat / (tinggi ** 2)\n",
    "    return bmi\n",
    "\n",
    "def status_bmi(bmi):\n",
    "    if bmi < 18.5:\n",
    "        return \"Kurus\"\n",
    "    elif 18.5 <= bmi < 24.9:\n",
    "        return \"Normal\"\n",
    "    elif 25 <= bmi < 29.9:\n",
    "        return \"Gemuk\"\n",
    "    else:\n",
    "        return \"Obesitas\"\n",
    "\n",
    "nama = input(\"Masukkan nama Anda: \")\n",
    "umur = int(input(\"Masukkan umur Anda: \"))\n",
    "gender = input(\"Masukkan jenis kelamin Anda (Pria/Wanita): \").capitalize()\n",
    "berat = float(input(\"Masukkan berat (kg): \"))\n",
    "tinggi = float(input(\"Masukkan tinggi (m): \"))\n",
    "\n",
    "bmi = hitung_bmi(berat, tinggi)\n",
    "\n",
    "status = status_bmi(bmi)\n",
    "\n",
    "print(f\"Nama: {nama}\")\n",
    "print(f\"Umur: {umur} tahun\")\n",
    "print(f\"Jenis Kelamin: {gender}\")\n",
    "print(f\"BMI Anda adalah {bmi:.2f}\")\n",
    "print(f\"Status BMI Anda: {status}\")"
   ]
  },
  {
   "cell_type": "markdown",
   "metadata": {},
   "source": []
  },
  {
   "cell_type": "markdown",
   "metadata": {},
   "source": [
    "### **Penjelasan program sederhana (Kalkulator BMI)**"
   ]
  },
  {
   "cell_type": "markdown",
   "metadata": {},
   "source": [
    "<p><strong>1. Fungsi-fungsi untuk Menghitung BMI dan Status BMI:</strong></p>\n",
    "    <ul>\n",
    "        <li>Program dimulai dengan dua fungsi, <code>hitung_bmi</code> dan <code>status_bmi</code>.</li>\n",
    "        <li><code>hitung_bmi</code> mengambil berat dan tinggi sebagai input, kemudian menghitung Indeks Massa Tubuh (BMI) dengan rumus <code>BMI = berat / (tinggi^2)</code>.</li>\n",
    "        <li><code>status_bmi</code> mengambil nilai BMI dan menentukan status BMI berdasarkan kriteria yang diberikan (kurus, normal, gemuk, atau obesitas).</li>\n",
    "    </ul>\n",
    "\n",
    "<p><strong>2. Input Informasi Pengguna:</strong></p>\n",
    "    <p>Program kemudian meminta pengguna untuk memasukkan informasi pribadi mereka, termasuk:<p>\n",
    "    <ul>\n",
    "        <li>Nama (input string).</li>\n",
    "        <li>Umur (input integer).</li>\n",
    "        <li>Jenis kelamin (input string, harus \"Pria\" atau \"Wanita\", dan kita menggunakan <code>.capitalize()</code> untuk memastikan input jenis kelamin berformat konsisten).</li>\n",
    "        <li>Berat (input float dalam kilogram).</li>\n",
    "        <li>Tinggi (input float dalam meter).</li>\n",
    "    </ul>\n",
    "\n",
    "<p><strong>3. Perhitungan BMI:</strong></p>\n",
    "    <ul>\n",
    "        <li>Setelah menerima semua input, program menghitung BMI pengguna dengan memanggil fungsi <code>hitung_bmi</code> dengan berat dan tinggi yang dimasukkan oleh pengguna.</li>\n",
    "    </ul>\n",
    "\n",
    "<p><strong>4. Menentukan Status BMI:</strong></p>\n",
    "    <ul>\n",
    "        <li>Program menggunakan fungsi <code>status_bmi</code> untuk menentukan status BMI berdasarkan nilai BMI yang dihitung sebelumnya.</li>\n",
    "    </ul>\n",
    "\n",
    " <p><strong>5. Menampilkan Hasil:</strong></p>\n",
    "    <ul>\n",
    "        <li>Akhirnya, program mencetak hasil berupa nama, umur, jenis kelamin, nilai BMI yang dihitung, dan status BMI yang ditentukan ke layar menggunakan f-string.</li>\n",
    "    </ul>"
   ]
  }
 ],
 "metadata": {
  "kernelspec": {
   "display_name": "Python 3",
   "language": "python",
   "name": "python3"
  },
  "language_info": {
   "codemirror_mode": {
    "name": "ipython",
    "version": 3
   },
   "file_extension": ".py",
   "mimetype": "text/x-python",
   "name": "python",
   "nbconvert_exporter": "python",
   "pygments_lexer": "ipython3",
   "version": "3.10.12"
  },
  "orig_nbformat": 4
 },
 "nbformat": 4,
 "nbformat_minor": 2
}
