{
 "cells": [
  {
   "cell_type": "markdown",
   "metadata": {},
   "source": [
    "# **Tugas Pertemuan 2**\n",
    "## Machine Learning\n",
    "\n",
    "<img src=\"https://upload.wikimedia.org/wikipedia/commons/6/68/LOGO_UEU_BY_ASU-06.png\" width=50% height=50%>\n",
    "\n",
    "<table style=\"width:75%\">\n",
    "  <tr>\n",
    "    <td>Dosen Pengampu</td>\n",
    "    <td>Jefry Sunupurwa Asri , S.Kom., M.Kom.</td>\n",
    "   </tr>\n",
    "  <tr>\n",
    "    <td>Mahasiswa</td>\n",
    "    <td>Andika Noor Ismawan</td>\n",
    "  </tr>\n",
    "  <tr>\n",
    "    <td>NIM</td>\n",
    "    <td>20210801465</td>\n",
    "  </tr>\n",
    "</table>"
   ]
  },
  {
   "cell_type": "markdown",
   "metadata": {},
   "source": [
    "<hr>"
   ]
  },
  {
   "cell_type": "markdown",
   "metadata": {},
   "source": [
    "1. Buatlah identitas diri menggunakan pemograman python sederhana"
   ]
  },
  {
   "cell_type": "code",
   "execution_count": 14,
   "metadata": {},
   "outputs": [
    {
     "name": "stdout",
     "output_type": "stream",
     "text": [
      "Informasi Mahasiswa:\n",
      "Nama Mahasiswa: Andika Noor Ismawan\n",
      "NIM Mahasiswa:  20210801465\n",
      "Mata Kuliah:    Machine Learning - CIE407\n"
     ]
    }
   ],
   "source": [
    "nama_mahasiswa = \"Andika Noor Ismawan\"\n",
    "nim_mahasiswa = \"20210801465\"\n",
    "mata_kuliah = \"Machine Learning - CIE407\"\n",
    "\n",
    "output = f\"{'Nama Mahasiswa:':<15} {nama_mahasiswa}\\n\" \\\n",
    "         f\"{'NIM Mahasiswa:':<15} {nim_mahasiswa}\\n\" \\\n",
    "         f\"{'Mata Kuliah:':<15} {mata_kuliah}\"\n",
    "\n",
    "print(\"Informasi Mahasiswa:\")\n",
    "print(output)\n"
   ]
  },
  {
   "cell_type": "markdown",
   "metadata": {},
   "source": [
    "2. Buatlah matriks C dengan orde 2x3, dan nilai yang diberikan pada matriks C adalah sebagai berikut:\n",
    "<ul>\n",
    "  <li>Baris 1 Kolom 1, nilai = 1</li>\n",
    "  <li>Baris 1 Kolom 2, nilai = 2</li>\n",
    "  <li>Baris 1 Kolom 3, nilai = 3</li>\n",
    "  <li>Baris 2 Kolom 1, nilai = 4</li>\n",
    "  <li>Baris 2 Kolom 2, nilai = 5</li>\n",
    "  <li>Baris 2 Kolom 3, nilai = 6</li>\n",
    "</ul>"
   ]
  },
  {
   "cell_type": "code",
   "execution_count": 20,
   "metadata": {},
   "outputs": [
    {
     "name": "stdout",
     "output_type": "stream",
     "text": [
      "Matriks C Ordo 2x3:\n",
      "[[1, 2, 3], [4, 5, 6]]\n"
     ]
    }
   ],
   "source": [
    "matriksC = [ [1, 2, 3], [4, 5, 6]]\n",
    "\n",
    "print(\"Matriks C Ordo 2x3:\")\n",
    "print(matriksC)"
   ]
  },
  {
   "cell_type": "markdown",
   "metadata": {},
   "source": [
    "3. Buatlah matriks dengan orde 3x2, dengan nilai adalah:\n",
    "<ul>\n",
    "  <li>Baris 1 Kolom 1, nilai = 2</li>\n",
    "  <li>Baris 1 Kolom 2, nilai = 2</li>\n",
    "  <li>Baris 2 Kolom 1, nilai = 2</li>\n",
    "  <li>Baris 2 Kolom 2, nilai = 2</li>\n",
    "  <li>Baris 3 Kolom 1, nilai = 2</li>\n",
    "  <li>Baris 3 Kolom 2, nilai = 2</li>\n",
    "</ul>"
   ]
  },
  {
   "cell_type": "code",
   "execution_count": 21,
   "metadata": {},
   "outputs": [
    {
     "name": "stdout",
     "output_type": "stream",
     "text": [
      "Matriks dengan ordo 3x2:\n",
      "[[2, 2], [2, 2], [2, 2]]\n"
     ]
    }
   ],
   "source": [
    "matriks = [[2, 2], [2, 2], [2, 2]]\n",
    "\n",
    "print(\"Matriks dengan ordo 3x2:\")\n",
    "print(matriks)"
   ]
  },
  {
   "cell_type": "markdown",
   "metadata": {},
   "source": [
    "4. Importlah library Numpy"
   ]
  },
  {
   "cell_type": "code",
   "execution_count": null,
   "metadata": {},
   "outputs": [],
   "source": [
    "import numpy as np\n",
    "\n",
    "/*\n",
    "NumPy (Numerical Python) adalah library Python yang fokus pada scientific computing.\n",
    "\n",
    "Numpy menyediakan fungsi yang siap pakai untuk memudahkan melakukan perhitungan saintifik seperti matriks, aljabar, statistik, dan sebagainya.\n",
    "*/"
   ]
  },
  {
   "cell_type": "markdown",
   "metadata": {},
   "source": []
  }
 ],
 "metadata": {
  "kernelspec": {
   "display_name": "Python 3",
   "language": "python",
   "name": "python3"
  },
  "language_info": {
   "codemirror_mode": {
    "name": "ipython",
    "version": 3
   },
   "file_extension": ".py",
   "mimetype": "text/x-python",
   "name": "python",
   "nbconvert_exporter": "python",
   "pygments_lexer": "ipython3",
   "version": "3.10.12"
  },
  "orig_nbformat": 4
 },
 "nbformat": 4,
 "nbformat_minor": 2
}
