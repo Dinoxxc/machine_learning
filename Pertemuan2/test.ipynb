{
 "cells": [
  {
   "cell_type": "code",
   "execution_count": 1,
   "metadata": {},
   "outputs": [
    {
     "name": "stdout",
     "output_type": "stream",
     "text": [
      "Ini hasilnya total 1 = 6\n",
      "Ini hasilnya total 2 = 9\n"
     ]
    }
   ],
   "source": [
    "a = 2\n",
    "b = 3\n",
    "total1 = a * b\n",
    "total2 = total1 + b\n",
    "print(\"Ini hasilnya total 1 =\", total1)\n",
    "print(\"Ini hasilnya total 2 =\", total2)\n"
   ]
  }
 ],
 "metadata": {
  "kernelspec": {
   "display_name": "Python 3",
   "language": "python",
   "name": "python3"
  },
  "language_info": {
   "codemirror_mode": {
    "name": "ipython",
    "version": 3
   },
   "file_extension": ".py",
   "mimetype": "text/x-python",
   "name": "python",
   "nbconvert_exporter": "python",
   "pygments_lexer": "ipython3",
   "version": "3.10.12"
  },
  "orig_nbformat": 4
 },
 "nbformat": 4,
 "nbformat_minor": 2
}
