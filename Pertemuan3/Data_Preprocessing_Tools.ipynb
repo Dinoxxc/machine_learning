{
 "cells": [
  {
   "cell_type": "markdown",
   "metadata": {},
   "source": [
    "# **Data Preprocessing Tools**\n",
    "## Machine Learning\n",
    "\n",
    "<img src=\"https://upload.wikimedia.org/wikipedia/commons/6/68/LOGO_UEU_BY_ASU-06.png\" width=50% height=50%>\n",
    "\n",
    "<table style=\"width:75%\">\n",
    "  <tr>\n",
    "    <td><b>Dosen Pengampu</b></td>\n",
    "    <td>Jefry Sunupurwa Asri , S.Kom., M.Kom.</td>\n",
    "   </tr>\n",
    "  <tr>\n",
    "    <td><b>Mahasiswa</b></td>\n",
    "    <td>Andika Noor Ismawan</td>\n",
    "  </tr>\n",
    "  <tr>\n",
    "    <td><b>NIM</b></td>\n",
    "    <td>20210801465</td>\n",
    "  </tr>\n",
    "</table>"
   ]
  },
  {
   "cell_type": "markdown",
   "metadata": {},
   "source": [
    "<hr>\n",
    "\n",
    "### Importing Libraries"
   ]
  },
  {
   "cell_type": "code",
   "execution_count": 26,
   "metadata": {},
   "outputs": [],
   "source": [
    "import numpy as np\n",
    "import matplotlib.pyplot as plt\n",
    "import pandas as pd"
   ]
  },
  {
   "cell_type": "markdown",
   "metadata": {},
   "source": [
    "<hr>\n",
    "\n",
    "### Importing the dataset"
   ]
  },
  {
   "cell_type": "code",
   "execution_count": 28,
   "metadata": {},
   "outputs": [],
   "source": [
    "dataset = pd.read_csv('Employee_Data_Company.csv')\n",
    "X = dataset.iloc[:, :-1].values\n",
    "y = dataset.iloc[:, -1].values\n",
    "z = dataset.iloc[[2]].values"
   ]
  },
  {
   "cell_type": "code",
   "execution_count": 29,
   "metadata": {},
   "outputs": [
    {
     "name": "stdout",
     "output_type": "stream",
     "text": [
      "<class 'pandas.core.frame.DataFrame'>\n",
      "RangeIndex: 20 entries, 0 to 19\n",
      "Data columns (total 9 columns):\n",
      " #   Column       Non-Null Count  Dtype  \n",
      "---  ------       --------------  -----  \n",
      " 0   EmployeeID   16 non-null     float64\n",
      " 1   FirstName    20 non-null     object \n",
      " 2   LastName     20 non-null     object \n",
      " 3   Email        20 non-null     object \n",
      " 4   Department   20 non-null     object \n",
      " 5   Title        20 non-null     object \n",
      " 6   Salary       16 non-null     float64\n",
      " 7   JoiningDate  20 non-null     object \n",
      " 8   Active       20 non-null     bool   \n",
      "dtypes: bool(1), float64(2), object(6)\n",
      "memory usage: 1.4+ KB\n"
     ]
    }
   ],
   "source": [
    "dataset.info()"
   ]
  },
  {
   "cell_type": "code",
   "execution_count": 30,
   "metadata": {},
   "outputs": [
    {
     "data": {
      "text/plain": [
       "EmployeeID     4\n",
       "FirstName      0\n",
       "LastName       0\n",
       "Email          0\n",
       "Department     0\n",
       "Title          0\n",
       "Salary         4\n",
       "JoiningDate    0\n",
       "Active         0\n",
       "dtype: int64"
      ]
     },
     "execution_count": 30,
     "metadata": {},
     "output_type": "execute_result"
    }
   ],
   "source": [
    "dataset.isnull().sum()"
   ]
  },
  {
   "cell_type": "code",
   "execution_count": 31,
   "metadata": {},
   "outputs": [
    {
     "data": {
      "text/plain": [
       "8"
      ]
     },
     "execution_count": 31,
     "metadata": {},
     "output_type": "execute_result"
    }
   ],
   "source": [
    "dataset.isnull().sum().sum()"
   ]
  },
  {
   "cell_type": "code",
   "execution_count": 32,
   "metadata": {},
   "outputs": [
    {
     "name": "stdout",
     "output_type": "stream",
     "text": [
      "[[nan 'Michael' 'Johnson' 'michaeljohnson@example.com' 'IT'\n",
      "  'Software Engineer' nan '2021-01-10' True]]\n"
     ]
    }
   ],
   "source": [
    "print(z)"
   ]
  },
  {
   "cell_type": "code",
   "execution_count": 33,
   "metadata": {},
   "outputs": [
    {
     "name": "stdout",
     "output_type": "stream",
     "text": [
      "[[nan 'John' 'Doe' 'johndoe@example.com' 'HR' 'HR Manager' 60000.0\n",
      "  '2020-03-15']\n",
      " [102.0 'Jane' 'Smith' 'janesmith@example.com' 'Finance' 'Accountant'\n",
      "  50000.0 '2019-07-20']\n",
      " [nan 'Michael' 'Johnson' 'michaeljohnson@example.com' 'IT'\n",
      "  'Software Engineer' nan '2021-01-10']\n",
      " [104.0 'Emily' 'Williams' 'emilywilliams@example.com' 'Marketing'\n",
      "  'Marketing Manager' 65000.0 '2018-11-05']\n",
      " [105.0 'David' 'Brown' 'davidbrown@example.com' 'Sales'\n",
      "  'Sales Representative' 55000.0 '2020-09-30']\n",
      " [106.0 'Lisa' 'Miller' 'lisamiller@example.com' 'HR' 'HR Specialist' nan\n",
      "  '2019-02-12']\n",
      " [107.0 'Robert' 'Anderson' 'robertanderson@example.com' 'Finance'\n",
      "  'Financial Analyst' 55000.0 '2020-06-25']\n",
      " [108.0 'Susan' 'Clark' 'susanclark@example.com' 'IT'\n",
      "  'Database Administrator' 68000.0 '2019-04-08']\n",
      " [nan 'Matthew' 'White' 'matthewwhite@example.com' 'Marketing'\n",
      "  'Marketing Coordinator' 48000.0 '2021-03-20']\n",
      " [110.0 'Laura' 'Taylor' 'laurataylor@example.com' 'Sales'\n",
      "  'Sales Manager' 75000.0 '2018-08-14']\n",
      " [111.0 'James' 'Kennedy' 'jameskennedy@example.com' 'HR' 'HR Assistant'\n",
      "  42000.0 '2022-02-05']\n",
      " [112.0 'Elizabeth' 'Hall' 'elizabethhall@example.com' 'Finance'\n",
      "  'Senior Accountant' 60000.0 '2017-12-18']\n",
      " [113.0 'William' 'Wilson' 'williamwilson@example.com' 'IT'\n",
      "  'Software Developer' 72000.0 '2020-11-30']\n",
      " [114.0 'Amy' 'Adams' 'amyadams@example.com' 'Marketing'\n",
      "  'Marketing Specialist' 52000.0 '2019-09-09']\n",
      " [nan 'Charles' 'Thomas' 'charlesthomas@example.com' 'Sales'\n",
      "  'Sales Associate' 48000.0 '2021-06-28']\n",
      " [116.0 'Mary' 'Turner' 'maryturner@example.com' 'HR' 'Recruiter' 48000.0\n",
      "  '2022-03-10']\n",
      " [117.0 'George' 'Baker' 'georgebaker@example.com' 'Finance'\n",
      "  'Junior Accountant' 42000.0 '2018-04-15']\n",
      " [118.0 'Anna' 'Garcia' 'annagarcia@example.com' 'IT'\n",
      "  'Network Administrator' nan '2017-10-22']\n",
      " [119.0 'Joseph' 'Evans' 'josephevans@example.com' 'Marketing'\n",
      "  'Content Writer' 46000.0 '2020-08-03']\n",
      " [120.0 'Sophia' 'Harris' 'sophiaharris@example.com' 'Sales'\n",
      "  'Sales Coordinator' nan '2019-01-17']]\n"
     ]
    }
   ],
   "source": [
    "print(X)"
   ]
  },
  {
   "cell_type": "code",
   "execution_count": 34,
   "metadata": {},
   "outputs": [
    {
     "name": "stdout",
     "output_type": "stream",
     "text": [
      "[ True  True  True  True  True  True  True  True  True  True  True  True\n",
      "  True  True  True  True  True  True  True  True]\n"
     ]
    }
   ],
   "source": [
    "print(y)"
   ]
  },
  {
   "cell_type": "markdown",
   "metadata": {},
   "source": [
    "<hr>\n",
    "\n",
    "### Taking care of missing data"
   ]
  },
  {
   "cell_type": "code",
   "execution_count": 45,
   "metadata": {},
   "outputs": [
    {
     "ename": "ValueError",
     "evalue": "Cannot use mean strategy with non-numeric data:\ncould not convert string to float: 'John'",
     "output_type": "error",
     "traceback": [
      "\u001b[0;31m---------------------------------------------------------------------------\u001b[0m",
      "\u001b[0;31mValueError\u001b[0m                                Traceback (most recent call last)",
      "\u001b[1;32m/root/machine_learning_dika/Pertemuan3/Data_Preprocessing_Tools.ipynb Cell 13\u001b[0m line \u001b[0;36m6\n\u001b[1;32m      <a href='vscode-notebook-cell://wsl%2Bubuntu/root/machine_learning_dika/Pertemuan3/Data_Preprocessing_Tools.ipynb#X24sdnNjb2RlLXJlbW90ZQ%3D%3D?line=2'>3</a>\u001b[0m x \u001b[39m=\u001b[39m dataset\u001b[39m.\u001b[39miloc[:, :\u001b[39m-\u001b[39m\u001b[39m1\u001b[39m]  \n\u001b[1;32m      <a href='vscode-notebook-cell://wsl%2Bubuntu/root/machine_learning_dika/Pertemuan3/Data_Preprocessing_Tools.ipynb#X24sdnNjb2RlLXJlbW90ZQ%3D%3D?line=4'>5</a>\u001b[0m imputer \u001b[39m=\u001b[39m SimpleImputer(missing_values\u001b[39m=\u001b[39mnp\u001b[39m.\u001b[39mnan, strategy\u001b[39m=\u001b[39m\u001b[39m'\u001b[39m\u001b[39mmean\u001b[39m\u001b[39m'\u001b[39m)\n\u001b[0;32m----> <a href='vscode-notebook-cell://wsl%2Bubuntu/root/machine_learning_dika/Pertemuan3/Data_Preprocessing_Tools.ipynb#X24sdnNjb2RlLXJlbW90ZQ%3D%3D?line=5'>6</a>\u001b[0m imputer\u001b[39m.\u001b[39;49mfit(x\u001b[39m.\u001b[39;49miloc[:, \u001b[39m1\u001b[39;49m:\u001b[39m3\u001b[39;49m])\n\u001b[1;32m      <a href='vscode-notebook-cell://wsl%2Bubuntu/root/machine_learning_dika/Pertemuan3/Data_Preprocessing_Tools.ipynb#X24sdnNjb2RlLXJlbW90ZQ%3D%3D?line=6'>7</a>\u001b[0m x\u001b[39m.\u001b[39miloc[:, \u001b[39m1\u001b[39m:\u001b[39m3\u001b[39m] \u001b[39m=\u001b[39m imputer\u001b[39m.\u001b[39mtransform(x\u001b[39m.\u001b[39miloc[:, \u001b[39m1\u001b[39m:\u001b[39m3\u001b[39m])\n",
      "File \u001b[0;32m/usr/local/lib/python3.10/dist-packages/sklearn/base.py:1152\u001b[0m, in \u001b[0;36m_fit_context.<locals>.decorator.<locals>.wrapper\u001b[0;34m(estimator, *args, **kwargs)\u001b[0m\n\u001b[1;32m   1145\u001b[0m     estimator\u001b[39m.\u001b[39m_validate_params()\n\u001b[1;32m   1147\u001b[0m \u001b[39mwith\u001b[39;00m config_context(\n\u001b[1;32m   1148\u001b[0m     skip_parameter_validation\u001b[39m=\u001b[39m(\n\u001b[1;32m   1149\u001b[0m         prefer_skip_nested_validation \u001b[39mor\u001b[39;00m global_skip_validation\n\u001b[1;32m   1150\u001b[0m     )\n\u001b[1;32m   1151\u001b[0m ):\n\u001b[0;32m-> 1152\u001b[0m     \u001b[39mreturn\u001b[39;00m fit_method(estimator, \u001b[39m*\u001b[39;49margs, \u001b[39m*\u001b[39;49m\u001b[39m*\u001b[39;49mkwargs)\n",
      "File \u001b[0;32m/usr/local/lib/python3.10/dist-packages/sklearn/impute/_base.py:369\u001b[0m, in \u001b[0;36mSimpleImputer.fit\u001b[0;34m(self, X, y)\u001b[0m\n\u001b[1;32m    351\u001b[0m \u001b[39m@_fit_context\u001b[39m(prefer_skip_nested_validation\u001b[39m=\u001b[39m\u001b[39mTrue\u001b[39;00m)\n\u001b[1;32m    352\u001b[0m \u001b[39mdef\u001b[39;00m \u001b[39mfit\u001b[39m(\u001b[39mself\u001b[39m, X, y\u001b[39m=\u001b[39m\u001b[39mNone\u001b[39;00m):\n\u001b[1;32m    353\u001b[0m \u001b[39m    \u001b[39m\u001b[39m\"\"\"Fit the imputer on `X`.\u001b[39;00m\n\u001b[1;32m    354\u001b[0m \n\u001b[1;32m    355\u001b[0m \u001b[39m    Parameters\u001b[39;00m\n\u001b[0;32m   (...)\u001b[0m\n\u001b[1;32m    367\u001b[0m \u001b[39m        Fitted estimator.\u001b[39;00m\n\u001b[1;32m    368\u001b[0m \u001b[39m    \"\"\"\u001b[39;00m\n\u001b[0;32m--> 369\u001b[0m     X \u001b[39m=\u001b[39m \u001b[39mself\u001b[39;49m\u001b[39m.\u001b[39;49m_validate_input(X, in_fit\u001b[39m=\u001b[39;49m\u001b[39mTrue\u001b[39;49;00m)\n\u001b[1;32m    371\u001b[0m     \u001b[39m# default fill_value is 0 for numerical input and \"missing_value\"\u001b[39;00m\n\u001b[1;32m    372\u001b[0m     \u001b[39m# otherwise\u001b[39;00m\n\u001b[1;32m    373\u001b[0m     \u001b[39mif\u001b[39;00m \u001b[39mself\u001b[39m\u001b[39m.\u001b[39mfill_value \u001b[39mis\u001b[39;00m \u001b[39mNone\u001b[39;00m:\n",
      "File \u001b[0;32m/usr/local/lib/python3.10/dist-packages/sklearn/impute/_base.py:330\u001b[0m, in \u001b[0;36mSimpleImputer._validate_input\u001b[0;34m(self, X, in_fit)\u001b[0m\n\u001b[1;32m    324\u001b[0m \u001b[39mif\u001b[39;00m \u001b[39m\"\u001b[39m\u001b[39mcould not convert\u001b[39m\u001b[39m\"\u001b[39m \u001b[39min\u001b[39;00m \u001b[39mstr\u001b[39m(ve):\n\u001b[1;32m    325\u001b[0m     new_ve \u001b[39m=\u001b[39m \u001b[39mValueError\u001b[39;00m(\n\u001b[1;32m    326\u001b[0m         \u001b[39m\"\u001b[39m\u001b[39mCannot use \u001b[39m\u001b[39m{}\u001b[39;00m\u001b[39m strategy with non-numeric data:\u001b[39m\u001b[39m\\n\u001b[39;00m\u001b[39m{}\u001b[39;00m\u001b[39m\"\u001b[39m\u001b[39m.\u001b[39mformat(\n\u001b[1;32m    327\u001b[0m             \u001b[39mself\u001b[39m\u001b[39m.\u001b[39mstrategy, ve\n\u001b[1;32m    328\u001b[0m         )\n\u001b[1;32m    329\u001b[0m     )\n\u001b[0;32m--> 330\u001b[0m     \u001b[39mraise\u001b[39;00m new_ve \u001b[39mfrom\u001b[39;00m \u001b[39mNone\u001b[39;00m\n\u001b[1;32m    331\u001b[0m \u001b[39melse\u001b[39;00m:\n\u001b[1;32m    332\u001b[0m     \u001b[39mraise\u001b[39;00m ve\n",
      "\u001b[0;31mValueError\u001b[0m: Cannot use mean strategy with non-numeric data:\ncould not convert string to float: 'John'"
     ]
    }
   ],
   "source": [
    "from sklearn.impute import SimpleImputer\n",
    "\n",
    "x = dataset.iloc[:, :-1]  \n",
    "\n",
    "imputer = SimpleImputer(missing_values=np.nan, strategy='mean')\n",
    "imputer.fit(x.iloc[:, 1:3])\n",
    "x.iloc[:, 1:3] = imputer.transform(x.iloc[:, 1:3])"
   ]
  },
  {
   "cell_type": "markdown",
   "metadata": {},
   "source": [
    "<hr>\n",
    "\n",
    "## Encoding categorical data"
   ]
  },
  {
   "cell_type": "markdown",
   "metadata": {},
   "source": [
    "<hr>\n",
    "\n",
    "### Encoding the Independent Variable"
   ]
  },
  {
   "cell_type": "code",
   "execution_count": null,
   "metadata": {},
   "outputs": [],
   "source": [
    "import pandas as pd\n",
    "from sklearn.compose import ColumnTransformer\n",
    "from sklearn.preprocessing import OneHotEncoder\n",
    "\n",
    "file_path = \"Employee_Data_Company.csv\"\n",
    "employee_data = pd.read_csv(file_path)\n",
    "X = employee_data.drop(columns=['DependentVariableColumnName'])\n",
    "ct = ColumnTransformer(transformers=[('encoder', OneHotEncoder(), [0])], remainder='passthrough')\n",
    "X_encoded = ct.fit_transform(X)"
   ]
  },
  {
   "cell_type": "code",
   "execution_count": null,
   "metadata": {},
   "outputs": [],
   "source": []
  }
 ],
 "metadata": {
  "kernelspec": {
   "display_name": "Python 3",
   "language": "python",
   "name": "python3"
  },
  "language_info": {
   "codemirror_mode": {
    "name": "ipython",
    "version": 3
   },
   "file_extension": ".py",
   "mimetype": "text/x-python",
   "name": "python",
   "nbconvert_exporter": "python",
   "pygments_lexer": "ipython3",
   "version": "3.10.12"
  }
 },
 "nbformat": 4,
 "nbformat_minor": 2
}
