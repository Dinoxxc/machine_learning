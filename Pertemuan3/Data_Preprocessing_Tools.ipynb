{
 "cells": [
  {
   "cell_type": "markdown",
   "metadata": {},
   "source": [
    "# **Data Preprocessing Tools**\n",
    "## Machine Learning\n",
    "\n",
    "<img src=\"https://upload.wikimedia.org/wikipedia/commons/6/68/LOGO_UEU_BY_ASU-06.png\" width=50% height=50%>\n",
    "\n",
    "<table style=\"width:75%\">\n",
    "  <tr>\n",
    "    <td><b>Dosen Pengampu</b></td>\n",
    "    <td>Jefry Sunupurwa Asri , S.Kom., M.Kom.</td>\n",
    "   </tr>\n",
    "  <tr>\n",
    "    <td><b>Mahasiswa</b></td>\n",
    "    <td>Andika Noor Ismawan</td>\n",
    "  </tr>\n",
    "  <tr>\n",
    "    <td><b>NIM</b></td>\n",
    "    <td>20210801465</td>\n",
    "  </tr>\n",
    "</table>"
   ]
  },
  {
   "cell_type": "markdown",
   "metadata": {},
   "source": [
    "<hr>\n",
    "\n",
    "### Importing Libraries"
   ]
  },
  {
   "cell_type": "code",
   "execution_count": 64,
   "metadata": {},
   "outputs": [],
   "source": [
    "import numpy as np\n",
    "import pandas as pd"
   ]
  },
  {
   "cell_type": "markdown",
   "metadata": {},
   "source": [
    "<hr>\n",
    "\n",
    "### Importing the dataset"
   ]
  },
  {
   "cell_type": "code",
   "execution_count": 45,
   "metadata": {},
   "outputs": [],
   "source": [
    "dataset = pd.read_csv('Employee_Data_Company.csv')"
   ]
  },
  {
   "cell_type": "code",
   "execution_count": 46,
   "metadata": {},
   "outputs": [
    {
     "name": "stdout",
     "output_type": "stream",
     "text": [
      "<class 'pandas.core.frame.DataFrame'>\n",
      "RangeIndex: 20 entries, 0 to 19\n",
      "Data columns (total 9 columns):\n",
      " #   Column       Non-Null Count  Dtype \n",
      "---  ------       --------------  ----- \n",
      " 0   EmployeeID   20 non-null     int64 \n",
      " 1   FirstName    20 non-null     object\n",
      " 2   LastName     20 non-null     object\n",
      " 3   Email        19 non-null     object\n",
      " 4   Department   20 non-null     object\n",
      " 5   Title        20 non-null     object\n",
      " 6   Salary       20 non-null     int64 \n",
      " 7   JoiningDate  20 non-null     object\n",
      " 8   Active       20 non-null     bool  \n",
      "dtypes: bool(1), int64(2), object(6)\n",
      "memory usage: 1.4+ KB\n"
     ]
    }
   ],
   "source": [
    "dataset.info()"
   ]
  },
  {
   "cell_type": "code",
   "execution_count": 47,
   "metadata": {},
   "outputs": [
    {
     "data": {
      "text/plain": [
       "EmployeeID     0\n",
       "FirstName      0\n",
       "LastName       0\n",
       "Email          1\n",
       "Department     0\n",
       "Title          0\n",
       "Salary         0\n",
       "JoiningDate    0\n",
       "Active         0\n",
       "dtype: int64"
      ]
     },
     "execution_count": 47,
     "metadata": {},
     "output_type": "execute_result"
    }
   ],
   "source": [
    "dataset.isnull().sum()"
   ]
  },
  {
   "cell_type": "code",
   "execution_count": 48,
   "metadata": {},
   "outputs": [
    {
     "data": {
      "text/plain": [
       "1"
      ]
     },
     "execution_count": 48,
     "metadata": {},
     "output_type": "execute_result"
    }
   ],
   "source": [
    "dataset.isnull().sum().sum()"
   ]
  },
  {
   "cell_type": "code",
   "execution_count": 49,
   "metadata": {},
   "outputs": [
    {
     "name": "stdout",
     "output_type": "stream",
     "text": [
      "[[103 'Michael' 'Johnson' 'michaeljohnson@example.com' 'IT'\n",
      "  'Software Engineer' 70000 '2021-01-10' True]]\n"
     ]
    }
   ],
   "source": [
    "print(z)"
   ]
  },
  {
   "cell_type": "code",
   "execution_count": 50,
   "metadata": {},
   "outputs": [
    {
     "name": "stdout",
     "output_type": "stream",
     "text": [
      "[[101 'John' 'Doe' nan 'HR' 'HR Manager' 60000 '2020-03-15']\n",
      " [102 'Jane' 'Smith' 'janesmith@example.com' 'Finance' 'Accountant' 50000\n",
      "  '2019-07-20']\n",
      " [103 'Michael' 'Johnson' 'michaeljohnson@example.com' 'IT'\n",
      "  'Software Engineer' 70000 '2021-01-10']\n",
      " [104 'Emily' 'Williams' 'emilywilliams@example.com' 'Marketing'\n",
      "  'Marketing Manager' 65000 '2018-11-05']\n",
      " [105 'David' 'Brown' 'davidbrown@example.com' 'Sales'\n",
      "  'Sales Representative' 55000 '2020-09-30']\n",
      " [106 'Lisa' 'Miller' 'lisamiller@example.com' 'HR' 'HR Specialist' 45000\n",
      "  '2019-02-12']\n",
      " [107 'Robert' 'Anderson' 'robertanderson@example.com' 'Finance'\n",
      "  'Financial Analyst' 55000 '2020-06-25']\n",
      " [108 'Susan' 'Clark' 'susanclark@example.com' 'IT'\n",
      "  'Database Administrator' 68000 '2019-04-08']\n",
      " [109 'Matthew' 'White' 'matthewwhite@example.com' 'Marketing'\n",
      "  'Marketing Coordinator' 48000 '2021-03-20']\n",
      " [110 'Laura' 'Taylor' 'laurataylor@example.com' 'Sales' 'Sales Manager'\n",
      "  75000 '2018-08-14']\n",
      " [111 'James' 'Kennedy' 'jameskennedy@example.com' 'HR' 'HR Assistant'\n",
      "  42000 '2022-02-05']\n",
      " [112 'Elizabeth' 'Hall' 'elizabethhall@example.com' 'Finance'\n",
      "  'Senior Accountant' 60000 '2017-12-18']\n",
      " [113 'William' 'Wilson' 'williamwilson@example.com' 'IT'\n",
      "  'Software Developer' 72000 '2020-11-30']\n",
      " [114 'Amy' 'Adams' 'amyadams@example.com' 'Marketing'\n",
      "  'Marketing Specialist' 52000 '2019-09-09']\n",
      " [115 'Charles' 'Thomas' 'charlesthomas@example.com' 'Sales'\n",
      "  'Sales Associate' 48000 '2021-06-28']\n",
      " [116 'Mary' 'Turner' 'maryturner@example.com' 'HR' 'Recruiter' 48000\n",
      "  '2022-03-10']\n",
      " [117 'George' 'Baker' 'georgebaker@example.com' 'Finance'\n",
      "  'Junior Accountant' 42000 '2018-04-15']\n",
      " [118 'Anna' 'Garcia' 'annagarcia@example.com' 'IT'\n",
      "  'Network Administrator' 69000 '2017-10-22']\n",
      " [119 'Joseph' 'Evans' 'josephevans@example.com' 'Marketing'\n",
      "  'Content Writer' 46000 '2020-08-03']\n",
      " [120 'Sophia' 'Harris' 'sophiaharris@example.com' 'Sales'\n",
      "  'Sales Coordinator' 50000 '2019-01-17']]\n"
     ]
    }
   ],
   "source": [
    "print(X)"
   ]
  },
  {
   "cell_type": "code",
   "execution_count": 53,
   "metadata": {},
   "outputs": [
    {
     "name": "stdout",
     "output_type": "stream",
     "text": [
      "[0 0 0 0 0 0 0 0 0 0 0 0 0 0 0 0 0 0 0 0]\n"
     ]
    }
   ],
   "source": [
    "print(y)"
   ]
  },
  {
   "cell_type": "markdown",
   "metadata": {},
   "source": [
    "<hr>\n",
    "\n",
    "### Taking care of missing data"
   ]
  },
  {
   "cell_type": "code",
   "execution_count": 69,
   "metadata": {},
   "outputs": [
    {
     "ename": "NameError",
     "evalue": "name 'X' is not defined",
     "output_type": "error",
     "traceback": [
      "\u001b[0;31m---------------------------------------------------------------------------\u001b[0m",
      "\u001b[0;31mNameError\u001b[0m                                 Traceback (most recent call last)",
      "\u001b[1;32m/root/machine_learning_dika/Pertemuan3/Data_Preprocessing_Tools.ipynb Cell 13\u001b[0m line \u001b[0;36m3\n\u001b[1;32m      <a href='vscode-notebook-cell://wsl%2Bubuntu/root/machine_learning_dika/Pertemuan3/Data_Preprocessing_Tools.ipynb#X15sdnNjb2RlLXJlbW90ZQ%3D%3D?line=0'>1</a>\u001b[0m \u001b[39mfrom\u001b[39;00m \u001b[39msklearn\u001b[39;00m\u001b[39m.\u001b[39;00m\u001b[39mimpute\u001b[39;00m \u001b[39mimport\u001b[39;00m SimpleImputer\n\u001b[1;32m      <a href='vscode-notebook-cell://wsl%2Bubuntu/root/machine_learning_dika/Pertemuan3/Data_Preprocessing_Tools.ipynb#X15sdnNjb2RlLXJlbW90ZQ%3D%3D?line=1'>2</a>\u001b[0m imputer \u001b[39m=\u001b[39m SimpleImputer(missing_values\u001b[39m=\u001b[39mnp\u001b[39m.\u001b[39mnan, strategy\u001b[39m=\u001b[39m\u001b[39m'\u001b[39m\u001b[39mmean\u001b[39m\u001b[39m'\u001b[39m)\n\u001b[0;32m----> <a href='vscode-notebook-cell://wsl%2Bubuntu/root/machine_learning_dika/Pertemuan3/Data_Preprocessing_Tools.ipynb#X15sdnNjb2RlLXJlbW90ZQ%3D%3D?line=2'>3</a>\u001b[0m imputer\u001b[39m.\u001b[39mfit(X[:, \u001b[39m1\u001b[39m:\u001b[39m3\u001b[39m])\n\u001b[1;32m      <a href='vscode-notebook-cell://wsl%2Bubuntu/root/machine_learning_dika/Pertemuan3/Data_Preprocessing_Tools.ipynb#X15sdnNjb2RlLXJlbW90ZQ%3D%3D?line=3'>4</a>\u001b[0m X[:, \u001b[39m1\u001b[39m:\u001b[39m3\u001b[39m] \u001b[39m=\u001b[39m imputer\u001b[39m.\u001b[39mtransform(X[:, \u001b[39m1\u001b[39m:\u001b[39m3\u001b[39m])\n",
      "\u001b[0;31mNameError\u001b[0m: name 'X' is not defined"
     ]
    }
   ],
   "source": [
    "from sklearn.impute import SimpleImputer\n",
    "imputer = SimpleImputer(missing_values=np.nan, strategy='mean')\n",
    "imputer.fit(X[:, 1:3])\n",
    "X[:, 1:3] = imputer.transform(X[:, 1:3])"
   ]
  },
  {
   "cell_type": "code",
   "execution_count": 38,
   "metadata": {},
   "outputs": [
    {
     "name": "stdout",
     "output_type": "stream",
     "text": [
      "[[101 'John' 'Doe' nan 'HR' 'HR Manager' 60000 '2020-03-15']\n",
      " [102 'Jane' 'Smith' 'janesmith@example.com' 'Finance' 'Accountant' 50000\n",
      "  '2019-07-20']\n",
      " [103 'Michael' 'Johnson' 'michaeljohnson@example.com' 'IT'\n",
      "  'Software Engineer' 70000 '2021-01-10']\n",
      " [104 'Emily' 'Williams' 'emilywilliams@example.com' 'Marketing'\n",
      "  'Marketing Manager' 65000 '2018-11-05']\n",
      " [105 'David' 'Brown' 'davidbrown@example.com' 'Sales'\n",
      "  'Sales Representative' 55000 '2020-09-30']\n",
      " [106 'Lisa' 'Miller' 'lisamiller@example.com' 'HR' 'HR Specialist' 45000\n",
      "  '2019-02-12']\n",
      " [107 'Robert' 'Anderson' 'robertanderson@example.com' 'Finance'\n",
      "  'Financial Analyst' 55000 '2020-06-25']\n",
      " [108 'Susan' 'Clark' 'susanclark@example.com' 'IT'\n",
      "  'Database Administrator' 68000 '2019-04-08']\n",
      " [109 'Matthew' 'White' 'matthewwhite@example.com' 'Marketing'\n",
      "  'Marketing Coordinator' 48000 '2021-03-20']\n",
      " [110 'Laura' 'Taylor' 'laurataylor@example.com' 'Sales' 'Sales Manager'\n",
      "  75000 '2018-08-14']\n",
      " [111 'James' 'Kennedy' 'jameskennedy@example.com' 'HR' 'HR Assistant'\n",
      "  42000 '2022-02-05']\n",
      " [112 'Elizabeth' 'Hall' 'elizabethhall@example.com' 'Finance'\n",
      "  'Senior Accountant' 60000 '2017-12-18']\n",
      " [113 'William' 'Wilson' 'williamwilson@example.com' 'IT'\n",
      "  'Software Developer' 72000 '2020-11-30']\n",
      " [114 'Amy' 'Adams' 'amyadams@example.com' 'Marketing'\n",
      "  'Marketing Specialist' 52000 '2019-09-09']\n",
      " [115 'Charles' 'Thomas' 'charlesthomas@example.com' 'Sales'\n",
      "  'Sales Associate' 48000 '2021-06-28']\n",
      " [116 'Mary' 'Turner' 'maryturner@example.com' 'HR' 'Recruiter' 48000\n",
      "  '2022-03-10']\n",
      " [117 'George' 'Baker' 'georgebaker@example.com' 'Finance'\n",
      "  'Junior Accountant' 42000 '2018-04-15']\n",
      " [118 'Anna' 'Garcia' 'annagarcia@example.com' 'IT'\n",
      "  'Network Administrator' 69000 '2017-10-22']\n",
      " [119 'Joseph' 'Evans' 'josephevans@example.com' 'Marketing'\n",
      "  'Content Writer' 46000 '2020-08-03']\n",
      " [120 'Sophia' 'Harris' 'sophiaharris@example.com' 'Sales'\n",
      "  'Sales Coordinator' 50000 '2019-01-17']]\n"
     ]
    }
   ],
   "source": [
    "print(X)"
   ]
  },
  {
   "cell_type": "markdown",
   "metadata": {},
   "source": [
    "<hr>\n",
    "\n",
    "## Encoding categorical data"
   ]
  },
  {
   "cell_type": "markdown",
   "metadata": {},
   "source": [
    "<hr>\n",
    "\n",
    "### Encoding the Independent Variable"
   ]
  },
  {
   "cell_type": "code",
   "execution_count": 63,
   "metadata": {},
   "outputs": [
    {
     "ename": "KeyError",
     "evalue": "\"['DependentVariableColumnName'] not found in axis\"",
     "output_type": "error",
     "traceback": [
      "\u001b[0;31m---------------------------------------------------------------------------\u001b[0m",
      "\u001b[0;31mKeyError\u001b[0m                                  Traceback (most recent call last)",
      "\u001b[1;32m/root/machine_learning_dika/Pertemuan3/Data_Preprocessing_Tools.ipynb Cell 17\u001b[0m line \u001b[0;36m7\n\u001b[1;32m      <a href='vscode-notebook-cell://wsl%2Bubuntu/root/machine_learning_dika/Pertemuan3/Data_Preprocessing_Tools.ipynb#X22sdnNjb2RlLXJlbW90ZQ%3D%3D?line=4'>5</a>\u001b[0m file_path \u001b[39m=\u001b[39m \u001b[39m\"\u001b[39m\u001b[39mEmployee_Data_Company.csv\u001b[39m\u001b[39m\"\u001b[39m\n\u001b[1;32m      <a href='vscode-notebook-cell://wsl%2Bubuntu/root/machine_learning_dika/Pertemuan3/Data_Preprocessing_Tools.ipynb#X22sdnNjb2RlLXJlbW90ZQ%3D%3D?line=5'>6</a>\u001b[0m employee_data \u001b[39m=\u001b[39m pd\u001b[39m.\u001b[39mread_csv(file_path)\n\u001b[0;32m----> <a href='vscode-notebook-cell://wsl%2Bubuntu/root/machine_learning_dika/Pertemuan3/Data_Preprocessing_Tools.ipynb#X22sdnNjb2RlLXJlbW90ZQ%3D%3D?line=6'>7</a>\u001b[0m X \u001b[39m=\u001b[39m employee_data\u001b[39m.\u001b[39;49mdrop(columns\u001b[39m=\u001b[39;49m[\u001b[39m'\u001b[39;49m\u001b[39mDependentVariableColumnName\u001b[39;49m\u001b[39m'\u001b[39;49m])\n\u001b[1;32m      <a href='vscode-notebook-cell://wsl%2Bubuntu/root/machine_learning_dika/Pertemuan3/Data_Preprocessing_Tools.ipynb#X22sdnNjb2RlLXJlbW90ZQ%3D%3D?line=7'>8</a>\u001b[0m ct \u001b[39m=\u001b[39m ColumnTransformer(transformers\u001b[39m=\u001b[39m[(\u001b[39m'\u001b[39m\u001b[39mencoder\u001b[39m\u001b[39m'\u001b[39m, OneHotEncoder(), [\u001b[39m0\u001b[39m])], remainder\u001b[39m=\u001b[39m\u001b[39m'\u001b[39m\u001b[39mpassthrough\u001b[39m\u001b[39m'\u001b[39m)\n\u001b[1;32m      <a href='vscode-notebook-cell://wsl%2Bubuntu/root/machine_learning_dika/Pertemuan3/Data_Preprocessing_Tools.ipynb#X22sdnNjb2RlLXJlbW90ZQ%3D%3D?line=8'>9</a>\u001b[0m X_encoded \u001b[39m=\u001b[39m ct\u001b[39m.\u001b[39mfit_transform(X)\n",
      "File \u001b[0;32m/usr/local/lib/python3.10/dist-packages/pandas/core/frame.py:5347\u001b[0m, in \u001b[0;36mDataFrame.drop\u001b[0;34m(self, labels, axis, index, columns, level, inplace, errors)\u001b[0m\n\u001b[1;32m   5199\u001b[0m \u001b[39mdef\u001b[39;00m \u001b[39mdrop\u001b[39m(\n\u001b[1;32m   5200\u001b[0m     \u001b[39mself\u001b[39m,\n\u001b[1;32m   5201\u001b[0m     labels: IndexLabel \u001b[39m|\u001b[39m \u001b[39mNone\u001b[39;00m \u001b[39m=\u001b[39m \u001b[39mNone\u001b[39;00m,\n\u001b[0;32m   (...)\u001b[0m\n\u001b[1;32m   5208\u001b[0m     errors: IgnoreRaise \u001b[39m=\u001b[39m \u001b[39m\"\u001b[39m\u001b[39mraise\u001b[39m\u001b[39m\"\u001b[39m,\n\u001b[1;32m   5209\u001b[0m ) \u001b[39m-\u001b[39m\u001b[39m>\u001b[39m DataFrame \u001b[39m|\u001b[39m \u001b[39mNone\u001b[39;00m:\n\u001b[1;32m   5210\u001b[0m \u001b[39m    \u001b[39m\u001b[39m\"\"\"\u001b[39;00m\n\u001b[1;32m   5211\u001b[0m \u001b[39m    Drop specified labels from rows or columns.\u001b[39;00m\n\u001b[1;32m   5212\u001b[0m \n\u001b[0;32m   (...)\u001b[0m\n\u001b[1;32m   5345\u001b[0m \u001b[39m            weight  1.0     0.8\u001b[39;00m\n\u001b[1;32m   5346\u001b[0m \u001b[39m    \"\"\"\u001b[39;00m\n\u001b[0;32m-> 5347\u001b[0m     \u001b[39mreturn\u001b[39;00m \u001b[39msuper\u001b[39;49m()\u001b[39m.\u001b[39;49mdrop(\n\u001b[1;32m   5348\u001b[0m         labels\u001b[39m=\u001b[39;49mlabels,\n\u001b[1;32m   5349\u001b[0m         axis\u001b[39m=\u001b[39;49maxis,\n\u001b[1;32m   5350\u001b[0m         index\u001b[39m=\u001b[39;49mindex,\n\u001b[1;32m   5351\u001b[0m         columns\u001b[39m=\u001b[39;49mcolumns,\n\u001b[1;32m   5352\u001b[0m         level\u001b[39m=\u001b[39;49mlevel,\n\u001b[1;32m   5353\u001b[0m         inplace\u001b[39m=\u001b[39;49minplace,\n\u001b[1;32m   5354\u001b[0m         errors\u001b[39m=\u001b[39;49merrors,\n\u001b[1;32m   5355\u001b[0m     )\n",
      "File \u001b[0;32m/usr/local/lib/python3.10/dist-packages/pandas/core/generic.py:4711\u001b[0m, in \u001b[0;36mNDFrame.drop\u001b[0;34m(self, labels, axis, index, columns, level, inplace, errors)\u001b[0m\n\u001b[1;32m   4709\u001b[0m \u001b[39mfor\u001b[39;00m axis, labels \u001b[39min\u001b[39;00m axes\u001b[39m.\u001b[39mitems():\n\u001b[1;32m   4710\u001b[0m     \u001b[39mif\u001b[39;00m labels \u001b[39mis\u001b[39;00m \u001b[39mnot\u001b[39;00m \u001b[39mNone\u001b[39;00m:\n\u001b[0;32m-> 4711\u001b[0m         obj \u001b[39m=\u001b[39m obj\u001b[39m.\u001b[39;49m_drop_axis(labels, axis, level\u001b[39m=\u001b[39;49mlevel, errors\u001b[39m=\u001b[39;49merrors)\n\u001b[1;32m   4713\u001b[0m \u001b[39mif\u001b[39;00m inplace:\n\u001b[1;32m   4714\u001b[0m     \u001b[39mself\u001b[39m\u001b[39m.\u001b[39m_update_inplace(obj)\n",
      "File \u001b[0;32m/usr/local/lib/python3.10/dist-packages/pandas/core/generic.py:4753\u001b[0m, in \u001b[0;36mNDFrame._drop_axis\u001b[0;34m(self, labels, axis, level, errors, only_slice)\u001b[0m\n\u001b[1;32m   4751\u001b[0m         new_axis \u001b[39m=\u001b[39m axis\u001b[39m.\u001b[39mdrop(labels, level\u001b[39m=\u001b[39mlevel, errors\u001b[39m=\u001b[39merrors)\n\u001b[1;32m   4752\u001b[0m     \u001b[39melse\u001b[39;00m:\n\u001b[0;32m-> 4753\u001b[0m         new_axis \u001b[39m=\u001b[39m axis\u001b[39m.\u001b[39;49mdrop(labels, errors\u001b[39m=\u001b[39;49merrors)\n\u001b[1;32m   4754\u001b[0m     indexer \u001b[39m=\u001b[39m axis\u001b[39m.\u001b[39mget_indexer(new_axis)\n\u001b[1;32m   4756\u001b[0m \u001b[39m# Case for non-unique axis\u001b[39;00m\n\u001b[1;32m   4757\u001b[0m \u001b[39melse\u001b[39;00m:\n",
      "File \u001b[0;32m/usr/local/lib/python3.10/dist-packages/pandas/core/indexes/base.py:6992\u001b[0m, in \u001b[0;36mIndex.drop\u001b[0;34m(self, labels, errors)\u001b[0m\n\u001b[1;32m   6990\u001b[0m \u001b[39mif\u001b[39;00m mask\u001b[39m.\u001b[39many():\n\u001b[1;32m   6991\u001b[0m     \u001b[39mif\u001b[39;00m errors \u001b[39m!=\u001b[39m \u001b[39m\"\u001b[39m\u001b[39mignore\u001b[39m\u001b[39m\"\u001b[39m:\n\u001b[0;32m-> 6992\u001b[0m         \u001b[39mraise\u001b[39;00m \u001b[39mKeyError\u001b[39;00m(\u001b[39mf\u001b[39m\u001b[39m\"\u001b[39m\u001b[39m{\u001b[39;00mlabels[mask]\u001b[39m.\u001b[39mtolist()\u001b[39m}\u001b[39;00m\u001b[39m not found in axis\u001b[39m\u001b[39m\"\u001b[39m)\n\u001b[1;32m   6993\u001b[0m     indexer \u001b[39m=\u001b[39m indexer[\u001b[39m~\u001b[39mmask]\n\u001b[1;32m   6994\u001b[0m \u001b[39mreturn\u001b[39;00m \u001b[39mself\u001b[39m\u001b[39m.\u001b[39mdelete(indexer)\n",
      "\u001b[0;31mKeyError\u001b[0m: \"['DependentVariableColumnName'] not found in axis\""
     ]
    }
   ],
   "source": [
    "import pandas as pd\n",
    "from sklearn.compose import ColumnTransformer\n",
    "from sklearn.preprocessing import OneHotEncoder\n",
    "\n",
    "file_path = \"Employee_Data_Company.csv\"\n",
    "employee_data = pd.read_csv(file_path)\n",
    "X = employee_data.drop(columns=['DependentVariableColumnName'])\n",
    "ct = ColumnTransformer(transformers=[('encoder', OneHotEncoder(), [0])], remainder='passthrough')\n",
    "X_encoded = ct.fit_transform(X)"
   ]
  },
  {
   "cell_type": "code",
   "execution_count": 57,
   "metadata": {},
   "outputs": [
    {
     "ename": "NameError",
     "evalue": "name 'X' is not defined",
     "output_type": "error",
     "traceback": [
      "\u001b[0;31m---------------------------------------------------------------------------\u001b[0m",
      "\u001b[0;31mNameError\u001b[0m                                 Traceback (most recent call last)",
      "\u001b[1;32m/root/machine_learning_dika/Pertemuan3/Data_Preprocessing_Tools.ipynb Cell 18\u001b[0m line \u001b[0;36m1\n\u001b[0;32m----> <a href='vscode-notebook-cell://wsl%2Bubuntu/root/machine_learning_dika/Pertemuan3/Data_Preprocessing_Tools.ipynb#X23sdnNjb2RlLXJlbW90ZQ%3D%3D?line=0'>1</a>\u001b[0m \u001b[39mprint\u001b[39m(X)\n",
      "\u001b[0;31mNameError\u001b[0m: name 'X' is not defined"
     ]
    }
   ],
   "source": []
  }
 ],
 "metadata": {
  "kernelspec": {
   "display_name": "Python 3",
   "language": "python",
   "name": "python3"
  },
  "language_info": {
   "codemirror_mode": {
    "name": "ipython",
    "version": 3
   },
   "file_extension": ".py",
   "mimetype": "text/x-python",
   "name": "python",
   "nbconvert_exporter": "python",
   "pygments_lexer": "ipython3",
   "version": "3.10.12"
  }
 },
 "nbformat": 4,
 "nbformat_minor": 2
}
