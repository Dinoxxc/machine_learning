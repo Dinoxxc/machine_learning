{
 "cells": [
  {
   "cell_type": "markdown",
   "metadata": {},
   "source": [
    "# **Data Preprocessing Tools**\n",
    "## Machine Learning\n",
    "\n",
    "<img src=\"https://upload.wikimedia.org/wikipedia/commons/6/68/LOGO_UEU_BY_ASU-06.png\" width=50% height=50%>\n",
    "\n",
    "<table style=\"width:75%\">\n",
    "  <tr>\n",
    "    <td><b>Dosen Pengampu</b></td>\n",
    "    <td>Jefry Sunupurwa Asri , S.Kom., M.Kom.</td>\n",
    "   </tr>\n",
    "  <tr>\n",
    "    <td><b>Mahasiswa</b></td>\n",
    "    <td>Andika Noor Ismawan</td>\n",
    "  </tr>\n",
    "  <tr>\n",
    "    <td><b>NIM</b></td>\n",
    "    <td>20210801465</td>\n",
    "  </tr>\n",
    "</table>"
   ]
  },
  {
   "cell_type": "markdown",
   "metadata": {},
   "source": [
    "<hr>\n",
    "\n",
    "### Importing Libraries"
   ]
  },
  {
   "cell_type": "code",
   "execution_count": 24,
   "metadata": {},
   "outputs": [],
   "source": [
    "import numpy as np\n",
    "import matplotlib.pyplot as plt\n",
    "import pandas as pd"
   ]
  },
  {
   "cell_type": "markdown",
   "metadata": {},
   "source": [
    "<hr>\n",
    "\n",
    "### Importing the dataset"
   ]
  },
  {
   "cell_type": "code",
   "execution_count": 25,
   "metadata": {},
   "outputs": [],
   "source": [
    "dataset = pd.read_csv('Employee_Data_Company.csv')\n",
    "X = dataset.iloc[:, :-1].values\n",
    "y = dataset.iloc[:, -1].values\n",
    "z = dataset.iloc[[2]].values"
   ]
  },
  {
   "cell_type": "code",
   "execution_count": 26,
   "metadata": {},
   "outputs": [
    {
     "name": "stdout",
     "output_type": "stream",
     "text": [
      "<class 'pandas.core.frame.DataFrame'>\n",
      "RangeIndex: 20 entries, 0 to 19\n",
      "Data columns (total 9 columns):\n",
      " #   Column       Non-Null Count  Dtype  \n",
      "---  ------       --------------  -----  \n",
      " 0   EmployeeID   20 non-null     int64  \n",
      " 1   FirstName    20 non-null     object \n",
      " 2   LastName     20 non-null     object \n",
      " 3   Email        19 non-null     object \n",
      " 4   Department   19 non-null     object \n",
      " 5   Title        18 non-null     object \n",
      " 6   Salary       19 non-null     float64\n",
      " 7   JoiningDate  20 non-null     object \n",
      " 8   Active       20 non-null     bool   \n",
      "dtypes: bool(1), float64(1), int64(1), object(6)\n",
      "memory usage: 1.4+ KB\n"
     ]
    }
   ],
   "source": [
    "dataset.info()"
   ]
  },
  {
   "cell_type": "code",
   "execution_count": 27,
   "metadata": {},
   "outputs": [
    {
     "data": {
      "text/plain": [
       "EmployeeID     0\n",
       "FirstName      0\n",
       "LastName       0\n",
       "Email          1\n",
       "Department     1\n",
       "Title          2\n",
       "Salary         1\n",
       "JoiningDate    0\n",
       "Active         0\n",
       "dtype: int64"
      ]
     },
     "execution_count": 27,
     "metadata": {},
     "output_type": "execute_result"
    }
   ],
   "source": [
    "dataset.isnull().sum()"
   ]
  },
  {
   "cell_type": "code",
   "execution_count": 32,
   "metadata": {},
   "outputs": [
    {
     "data": {
      "text/plain": [
       "5"
      ]
     },
     "execution_count": 32,
     "metadata": {},
     "output_type": "execute_result"
    }
   ],
   "source": [
    "dataset.isnull().sum().sum()"
   ]
  },
  {
   "cell_type": "code",
   "execution_count": 29,
   "metadata": {},
   "outputs": [
    {
     "name": "stdout",
     "output_type": "stream",
     "text": [
      "[[103 'Michael' 'Johnson' 'michaeljohnson@example.com' 'IT'\n",
      "  'Software Engineer' 70000.0 '2021-01-10' True]]\n"
     ]
    }
   ],
   "source": [
    "print(z)"
   ]
  },
  {
   "cell_type": "code",
   "execution_count": 30,
   "metadata": {},
   "outputs": [
    {
     "name": "stdout",
     "output_type": "stream",
     "text": [
      "[[101 'John' 'Doe' 'johndoe@example.com' 'HR' 'HR Manager' 60000.0\n",
      "  '2020-03-15']\n",
      " [102 'Jane' 'Smith' 'janesmith@example.com' 'Finance' 'Accountant' nan\n",
      "  '2019-07-20']\n",
      " [103 'Michael' 'Johnson' 'michaeljohnson@example.com' 'IT'\n",
      "  'Software Engineer' 70000.0 '2021-01-10']\n",
      " [104 'Emily' 'Williams' 'emilywilliams@example.com' 'Marketing'\n",
      "  'Marketing Manager' 65000.0 '2018-11-05']\n",
      " [105 'David' 'Brown' 'davidbrown@example.com' 'Sales'\n",
      "  'Sales Representative' 55000.0 '2020-09-30']\n",
      " [106 'Lisa' 'Miller' 'lisamiller@example.com' 'HR' 'HR Specialist'\n",
      "  45000.0 '2019-02-12']\n",
      " [107 'Robert' 'Anderson' 'robertanderson@example.com' 'Finance'\n",
      "  'Financial Analyst' 55000.0 '2020-06-25']\n",
      " [108 'Susan' 'Clark' 'susanclark@example.com' 'IT' nan 68000.0\n",
      "  '2019-04-08']\n",
      " [109 'Matthew' 'White' 'matthewwhite@example.com' 'Marketing'\n",
      "  'Marketing Coordinator' 48000.0 '2021-03-20']\n",
      " [110 'Laura' 'Taylor' 'laurataylor@example.com' nan 'Sales Manager'\n",
      "  75000.0 '2018-08-14']\n",
      " [111 'James' 'Kennedy' 'jameskennedy@example.com' 'HR' nan 42000.0\n",
      "  '2022-02-05']\n",
      " [112 'Elizabeth' 'Hall' 'elizabethhall@example.com' 'Finance'\n",
      "  'Senior Accountant' 60000.0 '2017-12-18']\n",
      " [113 'William' 'Wilson' 'williamwilson@example.com' 'IT'\n",
      "  'Software Developer' 72000.0 '2020-11-30']\n",
      " [114 'Amy' 'Adams' 'amyadams@example.com' 'Marketing'\n",
      "  'Marketing Specialist' 52000.0 '2019-09-09']\n",
      " [115 'Charles' 'Thomas' nan 'Sales' 'Sales Associate' 48000.0\n",
      "  '2021-06-28']\n",
      " [116 'Mary' 'Turner' 'maryturner@example.com' 'HR' 'Recruiter' 48000.0\n",
      "  '2022-03-10']\n",
      " [117 'George' 'Baker' 'georgebaker@example.com' 'Finance'\n",
      "  'Junior Accountant' 42000.0 '2018-04-15']\n",
      " [118 'Anna' 'Garcia' 'annagarcia@example.com' 'IT'\n",
      "  'Network Administrator' 69000.0 '2017-10-22']\n",
      " [119 'Joseph' 'Evans' 'josephevans@example.com' 'Marketing'\n",
      "  'Content Writer' 46000.0 '2020-08-03']\n",
      " [120 'Sophia' 'Harris' 'sophiaharris@example.com' 'Sales'\n",
      "  'Sales Coordinator' 50000.0 '2019-01-17']]\n"
     ]
    }
   ],
   "source": [
    "print(X)"
   ]
  },
  {
   "cell_type": "code",
   "execution_count": 31,
   "metadata": {},
   "outputs": [
    {
     "name": "stdout",
     "output_type": "stream",
     "text": [
      "[ True  True  True  True  True  True  True  True  True  True  True  True\n",
      "  True  True  True  True  True  True  True  True]\n"
     ]
    }
   ],
   "source": [
    "print(y)"
   ]
  },
  {
   "cell_type": "markdown",
   "metadata": {},
   "source": [
    "<hr>\n",
    "\n",
    "### Taking care of missing data"
   ]
  },
  {
   "cell_type": "code",
   "execution_count": null,
   "metadata": {},
   "outputs": [],
   "source": [
    "from sklearn.impute import SimpleImputer\n",
    "imputer = SimpleImputer(missing_values=np.nan, strategy='mean')\n",
    "imputer.fit(X[:, 1:3])\n",
    "X[:, 1:3] = imputer.transform(X[:, 1:3])"
   ]
  },
  {
   "cell_type": "code",
   "execution_count": 34,
   "metadata": {},
   "outputs": [
    {
     "name": "stdout",
     "output_type": "stream",
     "text": [
      "[[101 'John' 'Doe' 'johndoe@example.com' 'HR' 'HR Manager' 60000.0\n",
      "  '2020-03-15']\n",
      " [102 'Jane' 'Smith' 'janesmith@example.com' 'Finance' 'Accountant' nan\n",
      "  '2019-07-20']\n",
      " [103 'Michael' 'Johnson' 'michaeljohnson@example.com' 'IT'\n",
      "  'Software Engineer' 70000.0 '2021-01-10']\n",
      " [104 'Emily' 'Williams' 'emilywilliams@example.com' 'Marketing'\n",
      "  'Marketing Manager' 65000.0 '2018-11-05']\n",
      " [105 'David' 'Brown' 'davidbrown@example.com' 'Sales'\n",
      "  'Sales Representative' 55000.0 '2020-09-30']\n",
      " [106 'Lisa' 'Miller' 'lisamiller@example.com' 'HR' 'HR Specialist'\n",
      "  45000.0 '2019-02-12']\n",
      " [107 'Robert' 'Anderson' 'robertanderson@example.com' 'Finance'\n",
      "  'Financial Analyst' 55000.0 '2020-06-25']\n",
      " [108 'Susan' 'Clark' 'susanclark@example.com' 'IT' nan 68000.0\n",
      "  '2019-04-08']\n",
      " [109 'Matthew' 'White' 'matthewwhite@example.com' 'Marketing'\n",
      "  'Marketing Coordinator' 48000.0 '2021-03-20']\n",
      " [110 'Laura' 'Taylor' 'laurataylor@example.com' nan 'Sales Manager'\n",
      "  75000.0 '2018-08-14']\n",
      " [111 'James' 'Kennedy' 'jameskennedy@example.com' 'HR' nan 42000.0\n",
      "  '2022-02-05']\n",
      " [112 'Elizabeth' 'Hall' 'elizabethhall@example.com' 'Finance'\n",
      "  'Senior Accountant' 60000.0 '2017-12-18']\n",
      " [113 'William' 'Wilson' 'williamwilson@example.com' 'IT'\n",
      "  'Software Developer' 72000.0 '2020-11-30']\n",
      " [114 'Amy' 'Adams' 'amyadams@example.com' 'Marketing'\n",
      "  'Marketing Specialist' 52000.0 '2019-09-09']\n",
      " [115 'Charles' 'Thomas' nan 'Sales' 'Sales Associate' 48000.0\n",
      "  '2021-06-28']\n",
      " [116 'Mary' 'Turner' 'maryturner@example.com' 'HR' 'Recruiter' 48000.0\n",
      "  '2022-03-10']\n",
      " [117 'George' 'Baker' 'georgebaker@example.com' 'Finance'\n",
      "  'Junior Accountant' 42000.0 '2018-04-15']\n",
      " [118 'Anna' 'Garcia' 'annagarcia@example.com' 'IT'\n",
      "  'Network Administrator' 69000.0 '2017-10-22']\n",
      " [119 'Joseph' 'Evans' 'josephevans@example.com' 'Marketing'\n",
      "  'Content Writer' 46000.0 '2020-08-03']\n",
      " [120 'Sophia' 'Harris' 'sophiaharris@example.com' 'Sales'\n",
      "  'Sales Coordinator' 50000.0 '2019-01-17']]\n"
     ]
    }
   ],
   "source": [
    "print(X)"
   ]
  }
 ],
 "metadata": {
  "kernelspec": {
   "display_name": "Python 3",
   "language": "python",
   "name": "python3"
  },
  "language_info": {
   "codemirror_mode": {
    "name": "ipython",
    "version": 3
   },
   "file_extension": ".py",
   "mimetype": "text/x-python",
   "name": "python",
   "nbconvert_exporter": "python",
   "pygments_lexer": "ipython3",
   "version": "3.10.12"
  }
 },
 "nbformat": 4,
 "nbformat_minor": 2
}
