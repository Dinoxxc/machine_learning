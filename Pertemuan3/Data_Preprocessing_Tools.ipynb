{
 "cells": [
  {
   "cell_type": "markdown",
   "metadata": {},
   "source": [
    "# **Data Preprocessing Tools**\n",
    "## Machine Learning\n",
    "\n",
    "<img src=\"https://upload.wikimedia.org/wikipedia/commons/6/68/LOGO_UEU_BY_ASU-06.png\" width=50% height=50%>\n",
    "\n",
    "<table style=\"width:75%\">\n",
    "  <tr>\n",
    "    <td><b>Dosen Pengampu</b></td>\n",
    "    <td>Jefry Sunupurwa Asri , S.Kom., M.Kom.</td>\n",
    "   </tr>\n",
    "  <tr>\n",
    "    <td><b>Mahasiswa</b></td>\n",
    "    <td>Andika Noor Ismawan</td>\n",
    "  </tr>\n",
    "  <tr>\n",
    "    <td><b>NIM</b></td>\n",
    "    <td>20210801465</td>\n",
    "  </tr>\n",
    "</table>"
   ]
  },
  {
   "cell_type": "markdown",
   "metadata": {},
   "source": [
    "<hr>\n",
    "\n",
    "### Importing Libraries"
   ]
  },
  {
   "cell_type": "code",
   "execution_count": 27,
   "metadata": {},
   "outputs": [],
   "source": [
    "import numpy as np\n",
    "import matplotlib.pyplot as plt\n",
    "import pandas as pd"
   ]
  },
  {
   "cell_type": "markdown",
   "metadata": {},
   "source": [
    "<hr>\n",
    "\n",
    "### Importing the dataset"
   ]
  },
  {
   "cell_type": "code",
   "execution_count": 28,
   "metadata": {},
   "outputs": [],
   "source": [
    "dataset = pd.read_csv('../Pertemuan3/Employee_Data_Company.csv')\n",
    "X = dataset.iloc[:, :-1].values\n",
    "y = dataset.iloc[:, -1].values\n",
    "z = dataset.iloc[[2]].values"
   ]
  },
  {
   "cell_type": "code",
   "execution_count": 29,
   "metadata": {},
   "outputs": [
    {
     "name": "stdout",
     "output_type": "stream",
     "text": [
      "<class 'pandas.core.frame.DataFrame'>\n",
      "RangeIndex: 20 entries, 0 to 19\n",
      "Data columns (total 9 columns):\n",
      " #   Column       Non-Null Count  Dtype  \n",
      "---  ------       --------------  -----  \n",
      " 0   EmployeeID   20 non-null     int64  \n",
      " 1   FirstName    20 non-null     object \n",
      " 2   LastName     20 non-null     object \n",
      " 3   Email        20 non-null     object \n",
      " 4   Department   20 non-null     object \n",
      " 5   Title        20 non-null     object \n",
      " 6   Salary       16 non-null     float64\n",
      " 7   JoiningDate  20 non-null     object \n",
      " 8   Active       20 non-null     bool   \n",
      "dtypes: bool(1), float64(1), int64(1), object(6)\n",
      "memory usage: 1.4+ KB\n"
     ]
    }
   ],
   "source": [
    "dataset.info()"
   ]
  },
  {
   "cell_type": "code",
   "execution_count": 30,
   "metadata": {},
   "outputs": [
    {
     "data": {
      "text/plain": [
       "EmployeeID     0\n",
       "FirstName      0\n",
       "LastName       0\n",
       "Email          0\n",
       "Department     0\n",
       "Title          0\n",
       "Salary         4\n",
       "JoiningDate    0\n",
       "Active         0\n",
       "dtype: int64"
      ]
     },
     "execution_count": 30,
     "metadata": {},
     "output_type": "execute_result"
    }
   ],
   "source": [
    "dataset.isnull().sum()"
   ]
  },
  {
   "cell_type": "code",
   "execution_count": 31,
   "metadata": {},
   "outputs": [
    {
     "data": {
      "text/plain": [
       "4"
      ]
     },
     "execution_count": 31,
     "metadata": {},
     "output_type": "execute_result"
    }
   ],
   "source": [
    "dataset.isnull().sum().sum()"
   ]
  },
  {
   "cell_type": "code",
   "execution_count": 32,
   "metadata": {},
   "outputs": [
    {
     "name": "stdout",
     "output_type": "stream",
     "text": [
      "[[103 'Michael' 'Johnson' 'michaeljohnson@example.com' 'IT'\n",
      "  'Software Engineer' nan '2021-01-10' True]]\n"
     ]
    }
   ],
   "source": [
    "print(z)"
   ]
  },
  {
   "cell_type": "code",
   "execution_count": 33,
   "metadata": {},
   "outputs": [
    {
     "name": "stdout",
     "output_type": "stream",
     "text": [
      "[[101 'John' 'Doe' 'johndoe@example.com' 'HR' 'HR Manager' 60000.0\n",
      "  '2020-03-15']\n",
      " [102 'Jane' 'Smith' 'janesmith@example.com' 'Finance' 'Accountant'\n",
      "  50000.0 '2019-07-20']\n",
      " [103 'Michael' 'Johnson' 'michaeljohnson@example.com' 'IT'\n",
      "  'Software Engineer' nan '2021-01-10']\n",
      " [104 'Emily' 'Williams' 'emilywilliams@example.com' 'Marketing'\n",
      "  'Marketing Manager' 65000.0 '2018-11-05']\n",
      " [105 'David' 'Brown' 'davidbrown@example.com' 'Sales'\n",
      "  'Sales Representative' 55000.0 '2020-09-30']\n",
      " [106 'Lisa' 'Miller' 'lisamiller@example.com' 'HR' 'HR Specialist' nan\n",
      "  '2019-02-12']\n",
      " [107 'Robert' 'Anderson' 'robertanderson@example.com' 'Finance'\n",
      "  'Financial Analyst' 55000.0 '2020-06-25']\n",
      " [108 'Susan' 'Clark' 'susanclark@example.com' 'IT'\n",
      "  'Database Administrator' 68000.0 '2019-04-08']\n",
      " [109 'Matthew' 'White' 'matthewwhite@example.com' 'Marketing'\n",
      "  'Marketing Coordinator' 48000.0 '2021-03-20']\n",
      " [110 'Laura' 'Taylor' 'laurataylor@example.com' 'Sales' 'Sales Manager'\n",
      "  75000.0 '2018-08-14']\n",
      " [111 'James' 'Kennedy' 'jameskennedy@example.com' 'HR' 'HR Assistant'\n",
      "  42000.0 '2022-02-05']\n",
      " [112 'Elizabeth' 'Hall' 'elizabethhall@example.com' 'Finance'\n",
      "  'Senior Accountant' 60000.0 '2017-12-18']\n",
      " [113 'William' 'Wilson' 'williamwilson@example.com' 'IT'\n",
      "  'Software Developer' 72000.0 '2020-11-30']\n",
      " [114 'Amy' 'Adams' 'amyadams@example.com' 'Marketing'\n",
      "  'Marketing Specialist' 52000.0 '2019-09-09']\n",
      " [115 'Charles' 'Thomas' 'charlesthomas@example.com' 'Sales'\n",
      "  'Sales Associate' 48000.0 '2021-06-28']\n",
      " [116 'Mary' 'Turner' 'maryturner@example.com' 'HR' 'Recruiter' 48000.0\n",
      "  '2022-03-10']\n",
      " [117 'George' 'Baker' 'georgebaker@example.com' 'Finance'\n",
      "  'Junior Accountant' 42000.0 '2018-04-15']\n",
      " [118 'Anna' 'Garcia' 'annagarcia@example.com' 'IT'\n",
      "  'Network Administrator' nan '2017-10-22']\n",
      " [119 'Joseph' 'Evans' 'josephevans@example.com' 'Marketing'\n",
      "  'Content Writer' 46000.0 '2020-08-03']\n",
      " [120 'Sophia' 'Harris' 'sophiaharris@example.com' 'Sales'\n",
      "  'Sales Coordinator' nan '2019-01-17']]\n"
     ]
    }
   ],
   "source": [
    "print(X)"
   ]
  },
  {
   "cell_type": "code",
   "execution_count": 34,
   "metadata": {},
   "outputs": [
    {
     "name": "stdout",
     "output_type": "stream",
     "text": [
      "[ True  True  True  True  True  True  True  True  True  True  True  True\n",
      "  True  True  True  True  True  True  True  True]\n"
     ]
    }
   ],
   "source": [
    "print(y)"
   ]
  },
  {
   "cell_type": "markdown",
   "metadata": {},
   "source": [
    "<hr>\n",
    "\n",
    "### Taking care of missing data"
   ]
  },
  {
   "cell_type": "code",
   "execution_count": 44,
   "metadata": {},
   "outputs": [],
   "source": [
    "from sklearn.impute import SimpleImputer\n",
    "\n",
    "imputer = SimpleImputer(missing_values=np.nan, strategy='mean')\n",
    "imputer.fit(X[:, 6:7])\n",
    "X[:, 6:7] = imputer.transform(X[:, 6:7])"
   ]
  },
  {
   "cell_type": "code",
   "execution_count": 65,
   "metadata": {},
   "outputs": [
    {
     "name": "stdout",
     "output_type": "stream",
     "text": [
      "[0.0 0.0 1.0 0.0 0.0 1.0 0.0 0.0 0.0 0.0 0.0 0.0 0.0 0.0 0.0 0.0 0.0 1.0\n",
      " 0.0 1.0]\n"
     ]
    }
   ],
   "source": [
    "print(X[:, 6])"
   ]
  },
  {
   "cell_type": "markdown",
   "metadata": {},
   "source": [
    "# Encoding Categorical Data\n",
    "\n",
    "<hr>\n",
    "\n",
    "## Encoding the Independent Variable"
   ]
  },
  {
   "cell_type": "code",
   "execution_count": 46,
   "metadata": {},
   "outputs": [],
   "source": [
    "from sklearn.compose import ColumnTransformer\n",
    "from sklearn.preprocessing import OneHotEncoder\n",
    "ct = ColumnTransformer(transformers=[('encoder', OneHotEncoder(), [6])], remainder='passthrough')\n",
    "X = np.array(ct.fit_transform(X))"
   ]
  },
  {
   "cell_type": "code",
   "execution_count": 49,
   "metadata": {},
   "outputs": [
    {
     "name": "stdout",
     "output_type": "stream",
     "text": [
      "[0.0 0.0 1.0 0.0 0.0 1.0 0.0 0.0 0.0 0.0 0.0 0.0 0.0 0.0 0.0 0.0 0.0 1.0\n",
      " 0.0 1.0]\n"
     ]
    }
   ],
   "source": [
    "print(X[:, 6])"
   ]
  },
  {
   "cell_type": "markdown",
   "metadata": {},
   "source": [
    "## Encoding the Dependent Variable"
   ]
  },
  {
   "cell_type": "code",
   "execution_count": 50,
   "metadata": {},
   "outputs": [],
   "source": [
    "from sklearn.preprocessing import LabelEncoder\n",
    "le = LabelEncoder()\n",
    "y = le.fit_transform(y)"
   ]
  },
  {
   "cell_type": "code",
   "execution_count": 51,
   "metadata": {},
   "outputs": [
    {
     "name": "stdout",
     "output_type": "stream",
     "text": [
      "[0 0 0 0 0 0 0 0 0 0 0 0 0 0 0 0 0 0 0 0]\n"
     ]
    }
   ],
   "source": [
    "print(y)"
   ]
  },
  {
   "cell_type": "markdown",
   "metadata": {},
   "source": [
    "## Splitting the dataset into the Training set and Test set"
   ]
  },
  {
   "cell_type": "code",
   "execution_count": 52,
   "metadata": {},
   "outputs": [],
   "source": [
    "from sklearn.model_selection import train_test_split\n",
    "X_train, X_test, y_train, y_test = train_test_split(X, y, test_size = 0.2, random_state = 1)"
   ]
  },
  {
   "cell_type": "code",
   "execution_count": 53,
   "metadata": {},
   "outputs": [
    {
     "name": "stdout",
     "output_type": "stream",
     "text": [
      "[[0.0 0.0 0.0 0.0 0.0 0.0 1.0 0.0 0.0 0.0 0.0 0.0 103 'Michael' 'Johnson'\n",
      "  'michaeljohnson@example.com' 'IT' 'Software Engineer' '2021-01-10']\n",
      " [0.0 0.0 1.0 0.0 0.0 0.0 0.0 0.0 0.0 0.0 0.0 0.0 115 'Charles' 'Thomas'\n",
      "  'charlesthomas@example.com' 'Sales' 'Sales Associate' '2021-06-28']\n",
      " [0.0 0.0 0.0 0.0 0.0 1.0 0.0 0.0 0.0 0.0 0.0 0.0 105 'David' 'Brown'\n",
      "  'davidbrown@example.com' 'Sales' 'Sales Representative' '2020-09-30']\n",
      " [0.0 0.0 0.0 0.0 0.0 0.0 1.0 0.0 0.0 0.0 0.0 0.0 118 'Anna' 'Garcia'\n",
      "  'annagarcia@example.com' 'IT' 'Network Administrator' '2017-10-22']\n",
      " [0.0 0.0 0.0 0.0 0.0 0.0 0.0 0.0 0.0 1.0 0.0 0.0 108 'Susan' 'Clark'\n",
      "  'susanclark@example.com' 'IT' 'Database Administrator' '2019-04-08']\n",
      " [0.0 0.0 0.0 1.0 0.0 0.0 0.0 0.0 0.0 0.0 0.0 0.0 102 'Jane' 'Smith'\n",
      "  'janesmith@example.com' 'Finance' 'Accountant' '2019-07-20']\n",
      " [0.0 0.0 0.0 0.0 1.0 0.0 0.0 0.0 0.0 0.0 0.0 0.0 114 'Amy' 'Adams'\n",
      "  'amyadams@example.com' 'Marketing' 'Marketing Specialist' '2019-09-09']\n",
      " [0.0 0.0 0.0 0.0 0.0 0.0 0.0 1.0 0.0 0.0 0.0 0.0 101 'John' 'Doe'\n",
      "  'johndoe@example.com' 'HR' 'HR Manager' '2020-03-15']\n",
      " [0.0 0.0 0.0 0.0 0.0 0.0 1.0 0.0 0.0 0.0 0.0 0.0 120 'Sophia' 'Harris'\n",
      "  'sophiaharris@example.com' 'Sales' 'Sales Coordinator' '2019-01-17']\n",
      " [0.0 1.0 0.0 0.0 0.0 0.0 0.0 0.0 0.0 0.0 0.0 0.0 119 'Joseph' 'Evans'\n",
      "  'josephevans@example.com' 'Marketing' 'Content Writer' '2020-08-03']\n",
      " [0.0 0.0 0.0 0.0 0.0 0.0 0.0 0.0 0.0 0.0 0.0 1.0 110 'Laura' 'Taylor'\n",
      "  'laurataylor@example.com' 'Sales' 'Sales Manager' '2018-08-14']\n",
      " [0.0 0.0 1.0 0.0 0.0 0.0 0.0 0.0 0.0 0.0 0.0 0.0 116 'Mary' 'Turner'\n",
      "  'maryturner@example.com' 'HR' 'Recruiter' '2022-03-10']\n",
      " [0.0 0.0 1.0 0.0 0.0 0.0 0.0 0.0 0.0 0.0 0.0 0.0 109 'Matthew' 'White'\n",
      "  'matthewwhite@example.com' 'Marketing' 'Marketing Coordinator'\n",
      "  '2021-03-20']\n",
      " [0.0 0.0 0.0 0.0 0.0 0.0 0.0 0.0 0.0 0.0 1.0 0.0 113 'William' 'Wilson'\n",
      "  'williamwilson@example.com' 'IT' 'Software Developer' '2020-11-30']\n",
      " [0.0 0.0 0.0 0.0 0.0 0.0 0.0 1.0 0.0 0.0 0.0 0.0 112 'Elizabeth' 'Hall'\n",
      "  'elizabethhall@example.com' 'Finance' 'Senior Accountant' '2017-12-18']\n",
      " [0.0 0.0 0.0 0.0 0.0 0.0 1.0 0.0 0.0 0.0 0.0 0.0 106 'Lisa' 'Miller'\n",
      "  'lisamiller@example.com' 'HR' 'HR Specialist' '2019-02-12']]\n"
     ]
    }
   ],
   "source": [
    "print(X_train)"
   ]
  },
  {
   "cell_type": "code",
   "execution_count": 54,
   "metadata": {},
   "outputs": [
    {
     "name": "stdout",
     "output_type": "stream",
     "text": [
      "[[0.0 0.0 0.0 0.0 0.0 0.0 0.0 0.0 1.0 0.0 0.0 0.0 104 'Emily' 'Williams'\n",
      "  'emilywilliams@example.com' 'Marketing' 'Marketing Manager'\n",
      "  '2018-11-05']\n",
      " [1.0 0.0 0.0 0.0 0.0 0.0 0.0 0.0 0.0 0.0 0.0 0.0 117 'George' 'Baker'\n",
      "  'georgebaker@example.com' 'Finance' 'Junior Accountant' '2018-04-15']\n",
      " [0.0 0.0 0.0 0.0 0.0 1.0 0.0 0.0 0.0 0.0 0.0 0.0 107 'Robert' 'Anderson'\n",
      "  'robertanderson@example.com' 'Finance' 'Financial Analyst' '2020-06-25']\n",
      " [1.0 0.0 0.0 0.0 0.0 0.0 0.0 0.0 0.0 0.0 0.0 0.0 111 'James' 'Kennedy'\n",
      "  'jameskennedy@example.com' 'HR' 'HR Assistant' '2022-02-05']]\n"
     ]
    }
   ],
   "source": [
    "print(X_test)"
   ]
  },
  {
   "cell_type": "code",
   "execution_count": 55,
   "metadata": {},
   "outputs": [
    {
     "name": "stdout",
     "output_type": "stream",
     "text": [
      "[0 0 0 0 0 0 0 0 0 0 0 0 0 0 0 0]\n"
     ]
    }
   ],
   "source": [
    "print(y_train)"
   ]
  },
  {
   "cell_type": "code",
   "execution_count": 56,
   "metadata": {},
   "outputs": [
    {
     "name": "stdout",
     "output_type": "stream",
     "text": [
      "[0 0 0 0]\n"
     ]
    }
   ],
   "source": [
    "print(y_test)"
   ]
  },
  {
   "cell_type": "markdown",
   "metadata": {},
   "source": [
    "## Feature Scaling"
   ]
  },
  {
   "cell_type": "code",
   "execution_count": 58,
   "metadata": {},
   "outputs": [],
   "source": [
    "from sklearn.preprocessing import StandardScaler\n",
    "sc = StandardScaler()\n",
    "cols_to_scale = [2, 3, 4, 5, 6, 8, 9]\n",
    "X_train[:, cols_to_scale] = sc.fit_transform(X_train[:, cols_to_scale])\n",
    "X_test[:, cols_to_scale] = sc.transform(X_test[:, cols_to_scale])\n"
   ]
  },
  {
   "cell_type": "code",
   "execution_count": 59,
   "metadata": {},
   "outputs": [
    {
     "name": "stdout",
     "output_type": "stream",
     "text": [
      "[[0.0 0.0 -0.48038446141526137 -0.2581988897471611 -0.2581988897471611\n",
      "  -0.2581988897471611 1.7320508075688774 0.0 0.0 -0.2581988897471611 0.0\n",
      "  0.0 103 'Michael' 'Johnson' 'michaeljohnson@example.com' 'IT'\n",
      "  'Software Engineer' '2021-01-10']\n",
      " [0.0 0.0 2.0816659994661326 -0.2581988897471611 -0.2581988897471611\n",
      "  -0.2581988897471611 -0.5773502691896258 0.0 0.0 -0.2581988897471611 0.0\n",
      "  0.0 115 'Charles' 'Thomas' 'charlesthomas@example.com' 'Sales'\n",
      "  'Sales Associate' '2021-06-28']\n",
      " [0.0 0.0 -0.48038446141526137 -0.2581988897471611 -0.2581988897471611\n",
      "  3.8729833462074166 -0.5773502691896258 0.0 0.0 -0.2581988897471611 0.0\n",
      "  0.0 105 'David' 'Brown' 'davidbrown@example.com' 'Sales'\n",
      "  'Sales Representative' '2020-09-30']\n",
      " [0.0 0.0 -0.48038446141526137 -0.2581988897471611 -0.2581988897471611\n",
      "  -0.2581988897471611 1.7320508075688774 0.0 0.0 -0.2581988897471611 0.0\n",
      "  0.0 118 'Anna' 'Garcia' 'annagarcia@example.com' 'IT'\n",
      "  'Network Administrator' '2017-10-22']\n",
      " [0.0 0.0 -0.48038446141526137 -0.2581988897471611 -0.2581988897471611\n",
      "  -0.2581988897471611 -0.5773502691896258 0.0 0.0 3.8729833462074166 0.0\n",
      "  0.0 108 'Susan' 'Clark' 'susanclark@example.com' 'IT'\n",
      "  'Database Administrator' '2019-04-08']\n",
      " [0.0 0.0 -0.48038446141526137 3.8729833462074166 -0.2581988897471611\n",
      "  -0.2581988897471611 -0.5773502691896258 0.0 0.0 -0.2581988897471611 0.0\n",
      "  0.0 102 'Jane' 'Smith' 'janesmith@example.com' 'Finance' 'Accountant'\n",
      "  '2019-07-20']\n",
      " [0.0 0.0 -0.48038446141526137 -0.2581988897471611 3.8729833462074166\n",
      "  -0.2581988897471611 -0.5773502691896258 0.0 0.0 -0.2581988897471611 0.0\n",
      "  0.0 114 'Amy' 'Adams' 'amyadams@example.com' 'Marketing'\n",
      "  'Marketing Specialist' '2019-09-09']\n",
      " [0.0 0.0 -0.48038446141526137 -0.2581988897471611 -0.2581988897471611\n",
      "  -0.2581988897471611 -0.5773502691896258 1.0 0.0 -0.2581988897471611 0.0\n",
      "  0.0 101 'John' 'Doe' 'johndoe@example.com' 'HR' 'HR Manager'\n",
      "  '2020-03-15']\n",
      " [0.0 0.0 -0.48038446141526137 -0.2581988897471611 -0.2581988897471611\n",
      "  -0.2581988897471611 1.7320508075688774 0.0 0.0 -0.2581988897471611 0.0\n",
      "  0.0 120 'Sophia' 'Harris' 'sophiaharris@example.com' 'Sales'\n",
      "  'Sales Coordinator' '2019-01-17']\n",
      " [0.0 1.0 -0.48038446141526137 -0.2581988897471611 -0.2581988897471611\n",
      "  -0.2581988897471611 -0.5773502691896258 0.0 0.0 -0.2581988897471611 0.0\n",
      "  0.0 119 'Joseph' 'Evans' 'josephevans@example.com' 'Marketing'\n",
      "  'Content Writer' '2020-08-03']\n",
      " [0.0 0.0 -0.48038446141526137 -0.2581988897471611 -0.2581988897471611\n",
      "  -0.2581988897471611 -0.5773502691896258 0.0 0.0 -0.2581988897471611 0.0\n",
      "  1.0 110 'Laura' 'Taylor' 'laurataylor@example.com' 'Sales'\n",
      "  'Sales Manager' '2018-08-14']\n",
      " [0.0 0.0 2.0816659994661326 -0.2581988897471611 -0.2581988897471611\n",
      "  -0.2581988897471611 -0.5773502691896258 0.0 0.0 -0.2581988897471611 0.0\n",
      "  0.0 116 'Mary' 'Turner' 'maryturner@example.com' 'HR' 'Recruiter'\n",
      "  '2022-03-10']\n",
      " [0.0 0.0 2.0816659994661326 -0.2581988897471611 -0.2581988897471611\n",
      "  -0.2581988897471611 -0.5773502691896258 0.0 0.0 -0.2581988897471611 0.0\n",
      "  0.0 109 'Matthew' 'White' 'matthewwhite@example.com' 'Marketing'\n",
      "  'Marketing Coordinator' '2021-03-20']\n",
      " [0.0 0.0 -0.48038446141526137 -0.2581988897471611 -0.2581988897471611\n",
      "  -0.2581988897471611 -0.5773502691896258 0.0 0.0 -0.2581988897471611 1.0\n",
      "  0.0 113 'William' 'Wilson' 'williamwilson@example.com' 'IT'\n",
      "  'Software Developer' '2020-11-30']\n",
      " [0.0 0.0 -0.48038446141526137 -0.2581988897471611 -0.2581988897471611\n",
      "  -0.2581988897471611 -0.5773502691896258 1.0 0.0 -0.2581988897471611 0.0\n",
      "  0.0 112 'Elizabeth' 'Hall' 'elizabethhall@example.com' 'Finance'\n",
      "  'Senior Accountant' '2017-12-18']\n",
      " [0.0 0.0 -0.48038446141526137 -0.2581988897471611 -0.2581988897471611\n",
      "  -0.2581988897471611 1.7320508075688774 0.0 0.0 -0.2581988897471611 0.0\n",
      "  0.0 106 'Lisa' 'Miller' 'lisamiller@example.com' 'HR' 'HR Specialist'\n",
      "  '2019-02-12']]\n"
     ]
    }
   ],
   "source": [
    "print(X_train)"
   ]
  }
 ],
 "metadata": {
  "kernelspec": {
   "display_name": "Python 3",
   "language": "python",
   "name": "python3"
  },
  "language_info": {
   "codemirror_mode": {
    "name": "ipython",
    "version": 3
   },
   "file_extension": ".py",
   "mimetype": "text/x-python",
   "name": "python",
   "nbconvert_exporter": "python",
   "pygments_lexer": "ipython3",
   "version": "3.10.12"
  }
 },
 "nbformat": 4,
 "nbformat_minor": 2
}
