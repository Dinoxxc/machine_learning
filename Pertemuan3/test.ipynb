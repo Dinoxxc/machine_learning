{
 "cells": [
  {
   "cell_type": "code",
   "execution_count": 7,
   "metadata": {},
   "outputs": [],
   "source": [
    "import pandas as pd\n",
    "\n",
    "data = pd.read_csv('Employee_Data_Company.csv')"
   ]
  },
  {
   "cell_type": "code",
   "execution_count": 8,
   "metadata": {},
   "outputs": [
    {
     "name": "stdout",
     "output_type": "stream",
     "text": [
      "    EmployeeID  FirstName  LastName                       Email Department  \\\n",
      "0          101       John       Doe         johndoe@example.com         HR   \n",
      "1          102       Jane     Smith       janesmith@example.com    Finance   \n",
      "2          103    Michael   Johnson  michaeljohnson@example.com         IT   \n",
      "3          104      Emily  Williams   emilywilliams@example.com  Marketing   \n",
      "4          105      David     Brown      davidbrown@example.com      Sales   \n",
      "5          106       Lisa    Miller      lisamiller@example.com         HR   \n",
      "6          107     Robert  Anderson  robertanderson@example.com    Finance   \n",
      "7          108      Susan     Clark      susanclark@example.com         IT   \n",
      "8          109    Matthew     White    matthewwhite@example.com  Marketing   \n",
      "9          110      Laura    Taylor     laurataylor@example.com      Sales   \n",
      "10         111      James   Kennedy    jameskennedy@example.com         HR   \n",
      "11         112  Elizabeth      Hall   elizabethhall@example.com    Finance   \n",
      "12         113    William    Wilson   williamwilson@example.com         IT   \n",
      "13         114        Amy     Adams        amyadams@example.com  Marketing   \n",
      "14         115    Charles    Thomas   charlesthomas@example.com      Sales   \n",
      "15         116       Mary    Turner      maryturner@example.com         HR   \n",
      "16         117     George     Baker     georgebaker@example.com    Finance   \n",
      "17         118       Anna    Garcia      annagarcia@example.com         IT   \n",
      "18         119     Joseph     Evans     josephevans@example.com  Marketing   \n",
      "19         120     Sophia    Harris    sophiaharris@example.com      Sales   \n",
      "\n",
      "                     Title   Salary JoiningDate  Active  \n",
      "0               HR Manager  60000.0  2020-03-15    True  \n",
      "1               Accountant  50000.0  2019-07-20    True  \n",
      "2        Software Engineer      NaN  2021-01-10    True  \n",
      "3        Marketing Manager  65000.0  2018-11-05    True  \n",
      "4     Sales Representative  55000.0  2020-09-30    True  \n",
      "5            HR Specialist      NaN  2019-02-12    True  \n",
      "6        Financial Analyst  55000.0  2020-06-25    True  \n",
      "7   Database Administrator  68000.0  2019-04-08    True  \n",
      "8    Marketing Coordinator  48000.0  2021-03-20    True  \n",
      "9            Sales Manager  75000.0  2018-08-14    True  \n",
      "10            HR Assistant  42000.0  2022-02-05    True  \n",
      "11       Senior Accountant  60000.0  2017-12-18    True  \n",
      "12      Software Developer  72000.0  2020-11-30    True  \n",
      "13    Marketing Specialist  52000.0  2019-09-09    True  \n",
      "14         Sales Associate  48000.0  2021-06-28    True  \n",
      "15               Recruiter  48000.0  2022-03-10    True  \n",
      "16       Junior Accountant  42000.0  2018-04-15    True  \n",
      "17   Network Administrator      NaN  2017-10-22    True  \n",
      "18          Content Writer  46000.0  2020-08-03    True  \n",
      "19       Sales Coordinator      NaN  2019-01-17    True  \n"
     ]
    }
   ],
   "source": [
    "print(data)"
   ]
  },
  {
   "cell_type": "code",
   "execution_count": 11,
   "metadata": {},
   "outputs": [
    {
     "name": "stdout",
     "output_type": "stream",
     "text": [
      "0     60000.0\n",
      "1     50000.0\n",
      "2         NaN\n",
      "3     65000.0\n",
      "4     55000.0\n",
      "5         NaN\n",
      "6     55000.0\n",
      "7     68000.0\n",
      "8     48000.0\n",
      "9     75000.0\n",
      "10    42000.0\n",
      "11    60000.0\n",
      "12    72000.0\n",
      "13    52000.0\n",
      "14    48000.0\n",
      "15    48000.0\n",
      "16    42000.0\n",
      "17        NaN\n",
      "18    46000.0\n",
      "19        NaN\n",
      "Name: Salary, dtype: float64\n",
      "0            HR\n",
      "1       Finance\n",
      "2            IT\n",
      "3     Marketing\n",
      "4         Sales\n",
      "5            HR\n",
      "6       Finance\n",
      "7            IT\n",
      "8     Marketing\n",
      "9         Sales\n",
      "10           HR\n",
      "11      Finance\n",
      "12           IT\n",
      "13    Marketing\n",
      "14        Sales\n",
      "15           HR\n",
      "16      Finance\n",
      "17           IT\n",
      "18    Marketing\n",
      "19        Sales\n",
      "Name: Department, dtype: object\n"
     ]
    }
   ],
   "source": [
    "coloumn_salary = data ['Salary']\n",
    "coloumn_department = data ['Department']\n",
    "print(coloumn_salary)\n",
    "print(coloumn_department)"
   ]
  },
  {
   "cell_type": "code",
   "execution_count": 15,
   "metadata": {},
   "outputs": [],
   "source": [
    "dataset = pd.concat([data ['Salary'],data ['Department']], axis = 1)"
   ]
  },
  {
   "cell_type": "code",
   "execution_count": 16,
   "metadata": {},
   "outputs": [
    {
     "name": "stdout",
     "output_type": "stream",
     "text": [
      "     Salary Department\n",
      "0   60000.0         HR\n",
      "1   50000.0    Finance\n",
      "2       NaN         IT\n",
      "3   65000.0  Marketing\n",
      "4   55000.0      Sales\n",
      "5       NaN         HR\n",
      "6   55000.0    Finance\n",
      "7   68000.0         IT\n",
      "8   48000.0  Marketing\n",
      "9   75000.0      Sales\n",
      "10  42000.0         HR\n",
      "11  60000.0    Finance\n",
      "12  72000.0         IT\n",
      "13  52000.0  Marketing\n",
      "14  48000.0      Sales\n",
      "15  48000.0         HR\n",
      "16  42000.0    Finance\n",
      "17      NaN         IT\n",
      "18  46000.0  Marketing\n",
      "19      NaN      Sales\n"
     ]
    }
   ],
   "source": [
    "print(dataset)"
   ]
  }
 ],
 "metadata": {
  "kernelspec": {
   "display_name": "Python 3",
   "language": "python",
   "name": "python3"
  },
  "language_info": {
   "codemirror_mode": {
    "name": "ipython",
    "version": 3
   },
   "file_extension": ".py",
   "mimetype": "text/x-python",
   "name": "python",
   "nbconvert_exporter": "python",
   "pygments_lexer": "ipython3",
   "version": "3.10.12"
  }
 },
 "nbformat": 4,
 "nbformat_minor": 2
}
