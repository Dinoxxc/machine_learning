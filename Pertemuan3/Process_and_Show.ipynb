{
 "cells": [
  {
   "cell_type": "code",
   "execution_count": 74,
   "metadata": {},
   "outputs": [],
   "source": [
    "import numpy as np\n",
    "import matplotlib.pyplot as plt\n",
    "import pandas as pd\n",
    "from sklearn.impute import SimpleImputer"
   ]
  },
  {
   "cell_type": "code",
   "execution_count": 75,
   "metadata": {},
   "outputs": [],
   "source": [
    "dataset = pd.read_csv('../Pertemuan3/Employee_Data_Company.csv')"
   ]
  },
  {
   "cell_type": "code",
   "execution_count": 76,
   "metadata": {},
   "outputs": [
    {
     "name": "stdout",
     "output_type": "stream",
     "text": [
      "    EmployeeID  FirstName  LastName                       Email Department  \\\n",
      "0          101       John       Doe         johndoe@example.com         HR   \n",
      "1          102       Jane     Smith       janesmith@example.com    Finance   \n",
      "2          103    Michael   Johnson  michaeljohnson@example.com         IT   \n",
      "3          104      Emily  Williams   emilywilliams@example.com  Marketing   \n",
      "4          105      David     Brown      davidbrown@example.com      Sales   \n",
      "5          106       Lisa    Miller      lisamiller@example.com         HR   \n",
      "6          107     Robert  Anderson  robertanderson@example.com    Finance   \n",
      "7          108      Susan     Clark      susanclark@example.com         IT   \n",
      "8          109    Matthew     White    matthewwhite@example.com  Marketing   \n",
      "9          110      Laura    Taylor     laurataylor@example.com      Sales   \n",
      "10         111      James   Kennedy    jameskennedy@example.com         HR   \n",
      "11         112  Elizabeth      Hall   elizabethhall@example.com    Finance   \n",
      "12         113    William    Wilson   williamwilson@example.com         IT   \n",
      "13         114        Amy     Adams        amyadams@example.com  Marketing   \n",
      "14         115    Charles    Thomas   charlesthomas@example.com      Sales   \n",
      "15         116       Mary    Turner      maryturner@example.com         HR   \n",
      "16         117     George     Baker     georgebaker@example.com    Finance   \n",
      "17         118       Anna    Garcia      annagarcia@example.com         IT   \n",
      "18         119     Joseph     Evans     josephevans@example.com  Marketing   \n",
      "19         120     Sophia    Harris    sophiaharris@example.com      Sales   \n",
      "\n",
      "                     Title   Salary JoiningDate  Active  \n",
      "0               HR Manager  60000.0  2020-03-15    True  \n",
      "1               Accountant  50000.0  2019-07-20    True  \n",
      "2        Software Engineer      NaN  2021-01-10    True  \n",
      "3        Marketing Manager  65000.0  2018-11-05    True  \n",
      "4     Sales Representative  55000.0  2020-09-30    True  \n",
      "5            HR Specialist      NaN  2019-02-12    True  \n",
      "6        Financial Analyst  55000.0  2020-06-25    True  \n",
      "7   Database Administrator  68000.0  2019-04-08    True  \n",
      "8    Marketing Coordinator  48000.0  2021-03-20    True  \n",
      "9            Sales Manager  75000.0  2018-08-14    True  \n",
      "10            HR Assistant  42000.0  2022-02-05    True  \n",
      "11       Senior Accountant  60000.0  2017-12-18    True  \n",
      "12      Software Developer  72000.0  2020-11-30    True  \n",
      "13    Marketing Specialist  52000.0  2019-09-09    True  \n",
      "14         Sales Associate  48000.0  2021-06-28    True  \n",
      "15               Recruiter  48000.0  2022-03-10    True  \n",
      "16       Junior Accountant  42000.0  2018-04-15    True  \n",
      "17   Network Administrator      NaN  2017-10-22    True  \n",
      "18          Content Writer  46000.0  2020-08-03    True  \n",
      "19       Sales Coordinator      NaN  2019-01-17    True  \n"
     ]
    }
   ],
   "source": [
    "print(dataset)"
   ]
  },
  {
   "cell_type": "code",
   "execution_count": 77,
   "metadata": {},
   "outputs": [
    {
     "name": "stdout",
     "output_type": "stream",
     "text": [
      "<class 'pandas.core.frame.DataFrame'>\n",
      "RangeIndex: 20 entries, 0 to 19\n",
      "Data columns (total 9 columns):\n",
      " #   Column       Non-Null Count  Dtype  \n",
      "---  ------       --------------  -----  \n",
      " 0   EmployeeID   20 non-null     int64  \n",
      " 1   FirstName    20 non-null     object \n",
      " 2   LastName     20 non-null     object \n",
      " 3   Email        20 non-null     object \n",
      " 4   Department   20 non-null     object \n",
      " 5   Title        20 non-null     object \n",
      " 6   Salary       16 non-null     float64\n",
      " 7   JoiningDate  20 non-null     object \n",
      " 8   Active       20 non-null     bool   \n",
      "dtypes: bool(1), float64(1), int64(1), object(6)\n",
      "memory usage: 1.4+ KB\n"
     ]
    }
   ],
   "source": [
    "dataset.info()"
   ]
  },
  {
   "cell_type": "code",
   "execution_count": 78,
   "metadata": {},
   "outputs": [
    {
     "name": "stdout",
     "output_type": "stream",
     "text": [
      "EmployeeID     0\n",
      "FirstName      0\n",
      "LastName       0\n",
      "Email          0\n",
      "Department     0\n",
      "Title          0\n",
      "Salary         4\n",
      "JoiningDate    0\n",
      "Active         0\n",
      "dtype: int64\n"
     ]
    }
   ],
   "source": [
    "missing_values = dataset.isnull().sum()\n",
    "print(missing_values)"
   ]
  },
  {
   "cell_type": "code",
   "execution_count": 79,
   "metadata": {},
   "outputs": [
    {
     "name": "stdout",
     "output_type": "stream",
     "text": [
      "0     60000.0\n",
      "1     50000.0\n",
      "2         NaN\n",
      "3     65000.0\n",
      "4     55000.0\n",
      "5         NaN\n",
      "6     55000.0\n",
      "7     68000.0\n",
      "8     48000.0\n",
      "9     75000.0\n",
      "10    42000.0\n",
      "11    60000.0\n",
      "12    72000.0\n",
      "13    52000.0\n",
      "14    48000.0\n",
      "15    48000.0\n",
      "16    42000.0\n",
      "17        NaN\n",
      "18    46000.0\n",
      "19        NaN\n",
      "Name: Salary, dtype: float64\n",
      "0            HR\n",
      "1       Finance\n",
      "2            IT\n",
      "3     Marketing\n",
      "4         Sales\n",
      "5            HR\n",
      "6       Finance\n",
      "7            IT\n",
      "8     Marketing\n",
      "9         Sales\n",
      "10           HR\n",
      "11      Finance\n",
      "12           IT\n",
      "13    Marketing\n",
      "14        Sales\n",
      "15           HR\n",
      "16      Finance\n",
      "17           IT\n",
      "18    Marketing\n",
      "19        Sales\n",
      "Name: Department, dtype: object\n"
     ]
    }
   ],
   "source": [
    "column_salary = dataset['Salary']\n",
    "column_department = dataset['Department']\n",
    "print(column_salary)\n",
    "print(column_department)"
   ]
  },
  {
   "cell_type": "code",
   "execution_count": 80,
   "metadata": {},
   "outputs": [],
   "source": [
    "imputer = SimpleImputer(missing_values=np.nan, strategy='mean')\n",
    "\n",
    "X[:, 6:7] = imputer.fit_transform(X[:, 6:7])"
   ]
  },
  {
   "cell_type": "code",
   "execution_count": 81,
   "metadata": {},
   "outputs": [
    {
     "name": "stdout",
     "output_type": "stream",
     "text": [
      "[[60000.0]\n",
      " [50000.0]\n",
      " [55375.0]\n",
      " [65000.0]\n",
      " [55000.0]\n",
      " [55375.0]\n",
      " [55000.0]\n",
      " [68000.0]\n",
      " [48000.0]\n",
      " [75000.0]\n",
      " [42000.0]\n",
      " [60000.0]\n",
      " [72000.0]\n",
      " [52000.0]\n",
      " [48000.0]\n",
      " [48000.0]\n",
      " [42000.0]\n",
      " [55375.0]\n",
      " [46000.0]\n",
      " [55375.0]]\n"
     ]
    }
   ],
   "source": [
    "print(X[:, 6:7])"
   ]
  },
  {
   "cell_type": "code",
   "execution_count": 82,
   "metadata": {},
   "outputs": [
    {
     "ename": "ValueError",
     "evalue": "Shape of passed values is (20, 8), indices imply (20, 9)",
     "output_type": "error",
     "traceback": [
      "\u001b[0;31m---------------------------------------------------------------------------\u001b[0m",
      "\u001b[0;31mValueError\u001b[0m                                Traceback (most recent call last)",
      "\u001b[1;32m/root/machine_learning_dika/Pertemuan3/Process_and_Show.ipynb Cell 9\u001b[0m line \u001b[0;36m1\n\u001b[0;32m----> <a href='vscode-notebook-cell://wsl%2Bubuntu/root/machine_learning_dika/Pertemuan3/Process_and_Show.ipynb#X11sdnNjb2RlLXJlbW90ZQ%3D%3D?line=0'>1</a>\u001b[0m imputed_dataset \u001b[39m=\u001b[39m pd\u001b[39m.\u001b[39;49mDataFrame(X, columns\u001b[39m=\u001b[39;49mdataset\u001b[39m.\u001b[39;49mcolumns)\n\u001b[1;32m      <a href='vscode-notebook-cell://wsl%2Bubuntu/root/machine_learning_dika/Pertemuan3/Process_and_Show.ipynb#X11sdnNjb2RlLXJlbW90ZQ%3D%3D?line=2'>3</a>\u001b[0m salary_department_table \u001b[39m=\u001b[39m imputed_dataset[[\u001b[39m'\u001b[39m\u001b[39mSalary\u001b[39m\u001b[39m'\u001b[39m, \u001b[39m'\u001b[39m\u001b[39mDepartment\u001b[39m\u001b[39m'\u001b[39m]]\n\u001b[1;32m      <a href='vscode-notebook-cell://wsl%2Bubuntu/root/machine_learning_dika/Pertemuan3/Process_and_Show.ipynb#X11sdnNjb2RlLXJlbW90ZQ%3D%3D?line=3'>4</a>\u001b[0m \u001b[39mprint\u001b[39m(salary_department_table)\n",
      "File \u001b[0;32m/usr/local/lib/python3.10/dist-packages/pandas/core/frame.py:785\u001b[0m, in \u001b[0;36mDataFrame.__init__\u001b[0;34m(self, data, index, columns, dtype, copy)\u001b[0m\n\u001b[1;32m    774\u001b[0m         mgr \u001b[39m=\u001b[39m dict_to_mgr(\n\u001b[1;32m    775\u001b[0m             \u001b[39m# error: Item \"ndarray\" of \"Union[ndarray, Series, Index]\" has no\u001b[39;00m\n\u001b[1;32m    776\u001b[0m             \u001b[39m# attribute \"name\"\u001b[39;00m\n\u001b[0;32m   (...)\u001b[0m\n\u001b[1;32m    782\u001b[0m             copy\u001b[39m=\u001b[39m_copy,\n\u001b[1;32m    783\u001b[0m         )\n\u001b[1;32m    784\u001b[0m     \u001b[39melse\u001b[39;00m:\n\u001b[0;32m--> 785\u001b[0m         mgr \u001b[39m=\u001b[39m ndarray_to_mgr(\n\u001b[1;32m    786\u001b[0m             data,\n\u001b[1;32m    787\u001b[0m             index,\n\u001b[1;32m    788\u001b[0m             columns,\n\u001b[1;32m    789\u001b[0m             dtype\u001b[39m=\u001b[39;49mdtype,\n\u001b[1;32m    790\u001b[0m             copy\u001b[39m=\u001b[39;49mcopy,\n\u001b[1;32m    791\u001b[0m             typ\u001b[39m=\u001b[39;49mmanager,\n\u001b[1;32m    792\u001b[0m         )\n\u001b[1;32m    794\u001b[0m \u001b[39m# For data is list-like, or Iterable (will consume into list)\u001b[39;00m\n\u001b[1;32m    795\u001b[0m \u001b[39melif\u001b[39;00m is_list_like(data):\n",
      "File \u001b[0;32m/usr/local/lib/python3.10/dist-packages/pandas/core/internals/construction.py:336\u001b[0m, in \u001b[0;36mndarray_to_mgr\u001b[0;34m(values, index, columns, dtype, copy, typ)\u001b[0m\n\u001b[1;32m    331\u001b[0m \u001b[39m# _prep_ndarraylike ensures that values.ndim == 2 at this point\u001b[39;00m\n\u001b[1;32m    332\u001b[0m index, columns \u001b[39m=\u001b[39m _get_axes(\n\u001b[1;32m    333\u001b[0m     values\u001b[39m.\u001b[39mshape[\u001b[39m0\u001b[39m], values\u001b[39m.\u001b[39mshape[\u001b[39m1\u001b[39m], index\u001b[39m=\u001b[39mindex, columns\u001b[39m=\u001b[39mcolumns\n\u001b[1;32m    334\u001b[0m )\n\u001b[0;32m--> 336\u001b[0m _check_values_indices_shape_match(values, index, columns)\n\u001b[1;32m    338\u001b[0m \u001b[39mif\u001b[39;00m typ \u001b[39m==\u001b[39m \u001b[39m\"\u001b[39m\u001b[39marray\u001b[39m\u001b[39m\"\u001b[39m:\n\u001b[1;32m    339\u001b[0m     \u001b[39mif\u001b[39;00m \u001b[39missubclass\u001b[39m(values\u001b[39m.\u001b[39mdtype\u001b[39m.\u001b[39mtype, \u001b[39mstr\u001b[39m):\n",
      "File \u001b[0;32m/usr/local/lib/python3.10/dist-packages/pandas/core/internals/construction.py:420\u001b[0m, in \u001b[0;36m_check_values_indices_shape_match\u001b[0;34m(values, index, columns)\u001b[0m\n\u001b[1;32m    418\u001b[0m passed \u001b[39m=\u001b[39m values\u001b[39m.\u001b[39mshape\n\u001b[1;32m    419\u001b[0m implied \u001b[39m=\u001b[39m (\u001b[39mlen\u001b[39m(index), \u001b[39mlen\u001b[39m(columns))\n\u001b[0;32m--> 420\u001b[0m \u001b[39mraise\u001b[39;00m \u001b[39mValueError\u001b[39;00m(\u001b[39mf\u001b[39m\u001b[39m\"\u001b[39m\u001b[39mShape of passed values is \u001b[39m\u001b[39m{\u001b[39;00mpassed\u001b[39m}\u001b[39;00m\u001b[39m, indices imply \u001b[39m\u001b[39m{\u001b[39;00mimplied\u001b[39m}\u001b[39;00m\u001b[39m\"\u001b[39m)\n",
      "\u001b[0;31mValueError\u001b[0m: Shape of passed values is (20, 8), indices imply (20, 9)"
     ]
    }
   ],
   "source": [
    "imputed_dataset = pd.DataFrame(X, columns=dataset.columns)\n",
    "\n",
    "salary_department_table = imputed_dataset[['Salary', 'Department']]\n",
    "print(salary_department_table)"
   ]
  }
 ],
 "metadata": {
  "kernelspec": {
   "display_name": "Python 3",
   "language": "python",
   "name": "python3"
  },
  "language_info": {
   "codemirror_mode": {
    "name": "ipython",
    "version": 3
   },
   "file_extension": ".py",
   "mimetype": "text/x-python",
   "name": "python",
   "nbconvert_exporter": "python",
   "pygments_lexer": "ipython3",
   "version": "3.10.12"
  }
 },
 "nbformat": 4,
 "nbformat_minor": 2
}
