{
 "cells": [
  {
   "cell_type": "markdown",
   "metadata": {},
   "source": [
    "# **UJIAN TENGAH Semester**\n",
    "## Machine Learning\n",
    "\n",
    "  <img src=\"https://upload.wikimedia.org/wikipedia/commons/6/68/LOGO_UEU_BY_ASU-06.png\" width=50% height=50%>\n",
    "\n",
    "  <table style=\"width:75%\">\n",
    "    <tr>\n",
    "      <td><b>Dosen Pengampu</b></td>\n",
    "      <td>Jefry Sunupurwa Asri , S.Kom., M.Kom.</td>\n",
    "    </tr>\n",
    "    <tr>\n",
    "      <td><b>Mahasiswa</b></td>\n",
    "      <td>Andika Noor Ismawan</td>\n",
    "    </tr>\n",
    "      <tr></tr>\n",
    "      <td><b>NIM</b></td>\n",
    "      <td>20210801465</td>\n",
    "    </tr>\n",
    "  </table>\n",
    "</div>"
   ]
  },
  {
   "cell_type": "markdown",
   "metadata": {},
   "source": [
    "**1. (b) Kapan biaya tertinggi terjadi ??**"
   ]
  },
  {
   "cell_type": "code",
   "execution_count": 2,
   "metadata": {},
   "outputs": [
    {
     "name": "stdout",
     "output_type": "stream",
     "text": [
      "Biaya tertinggi terjadi pada hari: Minggu\n"
     ]
    }
   ],
   "source": [
    "import pandas as pd\n",
    "\n",
    "df = pd.read_csv('dataset.csv')\n",
    "\n",
    "hari_biaya_tertinggi = df.loc[df['Biaya'].idxmax()]['Hari']\n",
    "\n",
    "print(f\"Biaya tertinggi terjadi pada hari: {hari_biaya_tertinggi}\")\n"
   ]
  }
 ],
 "metadata": {
  "kernelspec": {
   "display_name": "Python 3",
   "language": "python",
   "name": "python3"
  },
  "language_info": {
   "codemirror_mode": {
    "name": "ipython",
    "version": 3
   },
   "file_extension": ".py",
   "mimetype": "text/x-python",
   "name": "python",
   "nbconvert_exporter": "python",
   "pygments_lexer": "ipython3",
   "version": "3.10.12"
  }
 },
 "nbformat": 4,
 "nbformat_minor": 2
}
