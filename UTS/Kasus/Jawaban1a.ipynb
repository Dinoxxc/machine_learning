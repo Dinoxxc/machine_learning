{
 "cells": [
  {
   "cell_type": "markdown",
   "metadata": {},
   "source": [
    "# **UJIAN TENGAH Semester**\n",
    "## Machine Learning\n",
    "\n",
    "  <img src=\"https://upload.wikimedia.org/wikipedia/commons/6/68/LOGO_UEU_BY_ASU-06.png\" width=50% height=50%>\n",
    "\n",
    "  <table style=\"width:75%\">\n",
    "    <tr>\n",
    "      <td><b>Dosen Pengampu</b></td>\n",
    "      <td>Jefry Sunupurwa Asri , S.Kom., M.Kom.</td>\n",
    "    </tr>\n",
    "    <tr>\n",
    "      <td><b>Mahasiswa</b></td>\n",
    "      <td>Andika Noor Ismawan</td>\n",
    "    </tr>\n",
    "      <tr></tr>\n",
    "      <td><b>NIM</b></td>\n",
    "      <td>20210801465</td>\n",
    "    </tr>\n",
    "  </table>\n",
    "</div>"
   ]
  },
  {
   "cell_type": "markdown",
   "metadata": {},
   "source": [
    "**1. (a) Berapa rata-rata mahasiswa datang pada minggu ini?**"
   ]
  },
  {
   "cell_type": "code",
   "execution_count": 4,
   "metadata": {},
   "outputs": [
    {
     "name": "stdout",
     "output_type": "stream",
     "text": [
      "Rata-rata mahasiswa yang datang pada minggu ini adalah: 2.7142857142857144\n"
     ]
    }
   ],
   "source": [
    "import pandas as pd\n",
    "\n",
    "df = pd.read_csv('dataset.csv')\n",
    "\n",
    "\n",
    "rata_rata_datang = df['Datang'].mean()\n",
    "\n",
    "print(f\"Rata-rata mahasiswa yang datang pada minggu ini adalah: {rata_rata_datang}\")\n"
   ]
  }
 ],
 "metadata": {
  "kernelspec": {
   "display_name": "Python 3",
   "language": "python",
   "name": "python3"
  },
  "language_info": {
   "codemirror_mode": {
    "name": "ipython",
    "version": 3
   },
   "file_extension": ".py",
   "mimetype": "text/x-python",
   "name": "python",
   "nbconvert_exporter": "python",
   "pygments_lexer": "ipython3",
   "version": "3.10.12"
  }
 },
 "nbformat": 4,
 "nbformat_minor": 2
}
