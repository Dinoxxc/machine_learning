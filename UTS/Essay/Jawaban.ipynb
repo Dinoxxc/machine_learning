{
 "cells": [
  {
   "cell_type": "markdown",
   "metadata": {},
   "source": [
    "# **UJIAN TENGAH Semester**\n",
    "## Machine Learning\n",
    "\n",
    "  <img src=\"https://upload.wikimedia.org/wikipedia/commons/6/68/LOGO_UEU_BY_ASU-06.png\" width=50% height=50%>\n",
    "\n",
    "  <table style=\"width:75%\">\n",
    "    <tr>\n",
    "      <td><b>Dosen Pengampu</b></td>\n",
    "      <td>Jefry Sunupurwa Asri , S.Kom., M.Kom.</td>\n",
    "    </tr>\n",
    "    <tr>\n",
    "      <td><b>Mahasiswa</b></td>\n",
    "      <td>Andika Noor Ismawan</td>\n",
    "    </tr>\n",
    "      <tr></tr>\n",
    "      <td><b>NIM</b></td>\n",
    "      <td>20210801465</td>\n",
    "    </tr>\n",
    "  </table>\n",
    "</div>"
   ]
  },
  {
   "cell_type": "markdown",
   "metadata": {},
   "source": [
    "<hr>\n",
    "\n",
    "## **Soal Essay**"
   ]
  },
  {
   "cell_type": "markdown",
   "metadata": {},
   "source": [
    "**1. Jelaskan apa yang dimaksud dengan Machine Learning**"
   ]
  },
  {
   "cell_type": "markdown",
   "metadata": {},
   "source": [
    "_jawab :_\n",
    "<br><br>\n",
    "**Machine Learning (ML)** adalah cabang dari kecerdasan buatan (_Artificial Intelligence_) yang fokus pada pengembangan sistem yang dapat belajar dan meningkatkan kinerjanya tanpa perlu diprogram secara eksplisit. Konsep utama di balik Machine Learning adalah memberikan kemampuan pada komputer untuk belajar dari data, mengidentifikasi pola, dan membuat keputusan atau prediksi berdasarkan pengalaman.\n",
    "<br><br>\n",
    "Secara umum, ada tiga jenis utama **Machine Learning**:\n",
    "<br>\n",
    "<ol>\n",
    "    <li>\n",
    "    <b>Supervised Learning (Pembelajaran Terawasi): </b>Model mesin belajar dari data yang sudah dilabeli atau diberi contoh. Tujuannya adalah untuk membuat prediksi atau klasifikasi berdasarkan contoh-contoh tersebut. Misalnya, memberi komputer gambar-gambar kucing dan anjing untuk mempelajari perbedaan antara keduanya.\n",
    "    </li>\n",
    "    <br>\n",
    "    <li>\n",
    "    <b>Unsupervised Learning (Pembelajaran Tak Terawasi): </b>Model mesin belajar dari data yang tidak memiliki label atau contoh-contoh tertentu. Tujuan utamanya adalah untuk menemukan pola atau struktur tersembunyi dalam data. Contoh umumnya adalah pengelompokan (clustering), di mana komputer mengelompokkan data menjadi kelompok-kelompok yang serupa tanpa informasi tentang kelompok tersebut sebelumnya.\n",
    "    </li>\n",
    "    <br>\n",
    "    <li>\n",
    "    <b>Reinforcement Learning (Pembelajaran Penguatan): </b>Model mesin belajar melalui interaksi dengan lingkungannya. Sistem ini menerima umpan balik berupa reward atau hukuman berdasarkan tindakan-tindakan yang diambilnya. Tujuannya adalah untuk memaksimalkan total reward dari waktu ke waktu. Contoh aplikasinya adalah dalam permainan, di mana agen belajar untuk mengambil langkah-langkah tertentu untuk mencapai tujuan tertentu.\n",
    "    </li>\n",
    "</ol>"
   ]
  },
  {
   "cell_type": "markdown",
   "metadata": {},
   "source": [
    "**2. Berikan contoh penerapan implemetasi dalam kehidupan sehari-hari terkait Machine Learning. Dan jelaskan mengapa membutuhkannya dan manfaatnya**"
   ]
  },
  {
   "cell_type": "markdown",
   "metadata": {},
   "source": [
    "<ol>\n",
    "    <li><b>Pengenalan Suara pada Asisten Pribadi (contohnya Siri, Google Assistant):</b></li>\n",
    "    <br>\n",
    "    <ul>\n",
    "        <li><i>Implementasi: </i><br>Asisten pribadi menggunakan teknologi pengenalan suara berbasis Machine Learning untuk memahami dan merespons perintah pengguna.</li>\n",
    "        <li><i>Alasan dan Manfaat: </i><br>Memudahkan pengguna untuk berinteraksi dengan perangkat tanpa perlu mengetik, memberikan pengalaman pengguna yang lebih alami dan efisien.</li>\n",
    "    </ul>\n",
    "    <br><br>\n",
    "    <li><b>Sistem Rekomendasi di Platform Streaming (contohnya Netflix, Spotify):</b></li>\n",
    "    <br>\n",
    "    <ul>\n",
    "        <li><i>Implementasi: </i><br>Algoritma Machine Learning menganalisis data pengguna, seperti riwayat tontonan atau dengar, untuk merekomendasikan konten baru yang sesuai dengan preferensi individu.</li>\n",
    "        <li><i>Alasan dan Manfaat: </i><br>Meningkatkan kepuasan pengguna dengan menyajikan konten yang relevan, meningkatkan retensi pengguna, dan mendukung pemasaran layanan.</li>\n",
    "    </ul>\n",
    "    <br><br>\n",
    "    <li><b>Pendeteksian Penipuan pada Kartu Kredit:</b></li>\n",
    "    <br>\n",
    "    <ul>\n",
    "        <li><i>Implementasi: </i><br>Model Machine Learning memantau pola pengeluaran dan perilaku pengguna untuk mendeteksi transaksi yang tidak biasa atau mencurigakan.</li>\n",
    "        <li><i>Alasan dan Manfaat: </i><br> Melindungi pengguna dari aktivitas penipuan, mengurangi risiko keamanan finansial, dan meningkatkan kepercayaan dalam penggunaan kartu kredit.</li>\n",
    "    </ul>\n",
    "    <br><br>\n",
    "        <li><b>Pengenalan Gambar pada Aplikasi Pengelolaan Foto:</b></li>\n",
    "    <br>\n",
    "    <ul>\n",
    "        <li><i>Implementasi: </i><br>Algoritma Machine Learning dapat mengenali objek, orang, atau lokasi dalam gambar untuk memfasilitasi pengelolaan dan pencarian foto.</li>\n",
    "        <li><i>Alasan dan Manfaat: </i><br> Meningkatkan efisiensi pengguna dalam menemukan dan mengelola koleksi foto, memberikan pengalaman pengguna yang lebih baik.</li>\n",
    "    </ul>\n",
    "    <br><br>\n",
    "    <li><b>Prediksi Cuaca dengan Model Machine Learning:</b></li>\n",
    "    <br>\n",
    "    <ul>\n",
    "        <li><i>Implementasi: </i><br>Model Machine Learning menggunakan data historis dan saat ini untuk memprediksi kondisi cuaca di masa depan.</li>\n",
    "        <li><i>Alasan dan Manfaat: </i><br>Memberikan informasi yang lebih akurat dan tepat waktu kepada masyarakat, membantu perencanaan aktivitas luar ruangan, dan mendukung pengambilan keputusan dalam sektor pertanian atau transportasi.</li>\n",
    "    </ul>\n",
    "</ol>"
   ]
  },
  {
   "cell_type": "markdown",
   "metadata": {},
   "source": [
    "**3. Jelaskan macam-macam taxonomi dalam pengerapan Machine Learning**"
   ]
  },
  {
   "cell_type": "markdown",
   "metadata": {},
   "source": [
    "<ul>\n",
    "    <li>Supervised Learning</li>\n",
    "        <ol>\n",
    "            <li>Linear</li>\n",
    "            <ul>\n",
    "                <li>Linear Regression: Digunakan untuk memodelkan hubungan linier antara variabel input dan output kontinu.</li>\n",
    "                <li>Logistic Regression: Umumnya digunakan untuk klasifikasi biner dan memprediksi probabilitas keanggotaan dalam kelas.</li>\n",
    "                <li>Perceptron: Model dasar dari neuron tiruan yang dapat digunakan untuk klasifikasi biner.</li>\n",
    "            </ul>\n",
    "            <br><br>\n",
    "                <li>Non-Linear</li>\n",
    "            <ul>\n",
    "                <li>Single</li>\n",
    "                    <ul>\n",
    "                        <li>Decision Tree: Pohon keputusan yang digunakan untuk klasifikasi atau regresi.</li>\n",
    "                        <li>Rule Learning: Pembelajaran aturan yang menyatakan hubungan antara variabel dalam bentuk aturan.</li>\n",
    "                        <li>Naive Bayes: Berdasarkan teorema Bayes, sering digunakan untuk klasifikasi teks.</li>\n",
    "                        <li>K-Nearest Neighbours (KNN): Model yang memprediksi output berdasarkan mayoritas kelas dari k-neighbors terdekat dalam ruang fitur.</li>\n",
    "                        <li>Multi-Layer Perceptron: Jaringan saraf tiruan dengan lebih dari satu lapisan.</li>\n",
    "                        <li>Support Vector Machine (SVM): Model yang mencari batas keputusan terbaik antara kelas-kelas dalam ruang fitur.</li>\n",
    "                    </ul>\n",
    "                <li>Combined</li>\n",
    "                    <ul>\n",
    "                        <li>Bagging: Membangun beberapa model dan menggabungkan hasilnya untuk meningkatkan performa dan mengurangi overfitting.</li>\n",
    "                        <li>Boosting: Model dibangun secara berurutan, di mana setiap model berusaha memperbaiki kesalahan model sebelumnya.</li>\n",
    "                        <li>Random Forest: Sebuah ensambel dari pohon keputusan yang dikombinasikan untuk meningkatkan kinerja dan mengatasi overfitting.</li>\n",
    "                    </ul>\n",
    "            </ul>\n",
    "        </ol>\n",
    "    <br><br>\n",
    "    <li>Unsupervised Learning</li>\n",
    "        <ul>\n",
    "            <li>K-Means: Mengelompokkan data ke dalam k kelompok berdasarkan kesamaan dalam ruang fitur.</li>\n",
    "            <li>Expectation-Maximization (EM): Digunakan untuk memperkirakan parameter model dari data yang tidak lengkap atau tidak sepenuhnya diobservasi.</li>\n",
    "            <li>Self Organizing Maps: Jaringan saraf tiruan yang digunakan untuk memetakan data ke dalam ruang dimensi rendah.</li>\n",
    "        </ul>\n",
    "    <br><br>\n",
    "    <li>Reinforcement Learning</li>\n",
    "        <ul>\n",
    "            <li>Real-Time Decision: Model memutuskan tindakan secara langsung berdasarkan keadaan saat ini.</li>\n",
    "            <li>Robot Navigation: Digunakan untuk mengajarkan robot untuk bergerak dan berinteraksi dengan lingkungannya.</li>\n",
    "            <li>Learning Task: Model belajar melalui pengalaman dan umpan balik dari tugas tertentu.</li>\n",
    "            <li>Game AI: Digunakan dalam pengembangan kecerdasan buatan untuk permainan.</li>\n",
    "            <li>Skill Acquisition: Model memperoleh keterampilan dan pengetahuan melalui interaksi dengan lingkungannya.</li>\n",
    "        </ul>\n",
    "</ul>\n",
    "<br><br>\n",
    "<img src=\"https://github.com/djambred/machine_learning/blob/main/pert1/slide/taksonomi.png?raw=true\"></td>"
   ]
  }
 ],
 "metadata": {
  "language_info": {
   "name": "python"
  }
 },
 "nbformat": 4,
 "nbformat_minor": 2
}
