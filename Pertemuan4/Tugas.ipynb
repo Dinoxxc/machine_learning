{
 "cells": [
  {
   "cell_type": "markdown",
   "metadata": {},
   "source": [
    "# **Tugas Pertemuan 2**\n",
    "## Machine Learning\n",
    "\n",
    "<img src=\"https://upload.wikimedia.org/wikipedia/commons/6/68/LOGO_UEU_BY_ASU-06.png\" width=50% height=50%>\n",
    "\n",
    "<table style=\"width:75%\">\n",
    "  <tr>\n",
    "    <td><b>Dosen Pengampu</b></td>\n",
    "    <td>Jefry Sunupurwa Asri , S.Kom., M.Kom.</td>\n",
    "   </tr>\n",
    "  <tr>\n",
    "    <td><b>Mahasiswa</b></td>\n",
    "    <td>Andika Noor Ismawan</td>\n",
    "  </tr>\n",
    "  <tr>\n",
    "    <td><b>NIM</b></td>\n",
    "    <td>20210801465</td>\n",
    "  </tr>\n",
    "</table>"
   ]
  },
  {
   "cell_type": "markdown",
   "metadata": {},
   "source": [
    "<hr>"
   ]
  },
  {
   "cell_type": "markdown",
   "metadata": {},
   "source": [
    "**1. Buatlah identitas diri menggunakan pemograman python sederhana**"
   ]
  },
  {
   "cell_type": "code",
   "execution_count": 10,
   "metadata": {},
   "outputs": [
    {
     "name": "stdout",
     "output_type": "stream",
     "text": [
      "Informasi Mahasiswa:\n",
      "Nama Mahasiswa: Andika Noor Ismawan\n",
      "NIM Mahasiswa:  20210801465\n",
      "Mata Kuliah:    Machine Learning - CIE407\n"
     ]
    }
   ],
   "source": [
    "nama_mahasiswa = \"Andika Noor Ismawan\"\n",
    "nim_mahasiswa = \"20210801465\"\n",
    "mata_kuliah = \"Machine Learning - CIE407\"\n",
    "\n",
    "output = f\"{'Nama Mahasiswa:':<15} {nama_mahasiswa}\\n\" \\\n",
    "         f\"{'NIM Mahasiswa:':<15} {nim_mahasiswa}\\n\" \\\n",
    "         f\"{'Mata Kuliah:':<15} {mata_kuliah}\"\n",
    "\n",
    "print(\"Informasi Mahasiswa:\")\n",
    "print(output)"
   ]
  },
  {
   "cell_type": "markdown",
   "metadata": {},
   "source": [
    "**2. Buatlah matriks C dengan orde 2x3, dan nilai yang diberikan pada matriks C adalah sebagai berikut:**\n",
    "<ul>\n",
    "  <li>Baris 1 Kolom 1, nilai = 1</li>\n",
    "  <li>Baris 1 Kolom 2, nilai = 2</li>\n",
    "  <li>Baris 1 Kolom 3, nilai = 3</li>\n",
    "  <li>Baris 2 Kolom 1, nilai = 4</li>\n",
    "  <li>Baris 2 Kolom 2, nilai = 5</li>\n",
    "  <li>Baris 2 Kolom 3, nilai = 6</li>\n",
    "</ul>"
   ]
  },
  {
   "cell_type": "code",
   "execution_count": 20,
   "metadata": {},
   "outputs": [
    {
     "name": "stdout",
     "output_type": "stream",
     "text": [
      "Matriks C Ordo 2x3:\n",
      "[[1, 2, 3], [4, 5, 6]]\n"
     ]
    }
   ],
   "source": [
    "matriksC = [ [1, 2, 3], [4, 5, 6]]\n",
    "\n",
    "print(\"Matriks C Ordo 2x3:\")\n",
    "print(matriksC)"
   ]
  },
  {
   "cell_type": "markdown",
   "metadata": {},
   "source": [
    "**3. Buatlah matriks dengan orde 3x2, dengan nilai adalah:**\n",
    "<ul>\n",
    "  <li>Baris 1 Kolom 1, nilai = 2</li>\n",
    "  <li>Baris 1 Kolom 2, nilai = 2</li>\n",
    "  <li>Baris 2 Kolom 1, nilai = 2</li>\n",
    "  <li>Baris 2 Kolom 2, nilai = 2</li>\n",
    "  <li>Baris 3 Kolom 1, nilai = 2</li>\n",
    "  <li>Baris 3 Kolom 2, nilai = 2</li>\n",
    "</ul>"
   ]
  },
  {
   "cell_type": "code",
   "execution_count": 21,
   "metadata": {},
   "outputs": [
    {
     "name": "stdout",
     "output_type": "stream",
     "text": [
      "Matriks dengan ordo 3x2:\n",
      "[[2, 2], [2, 2], [2, 2]]\n"
     ]
    }
   ],
   "source": [
    "matriks = [[2, 2], [2, 2], [2, 2]]\n",
    "\n",
    "print(\"Matriks dengan ordo 3x2:\")\n",
    "print(matriks)"
   ]
  },
  {
   "cell_type": "markdown",
   "metadata": {},
   "source": [
    "**4. Importlah library Numpy**"
   ]
  },
  {
   "cell_type": "code",
   "execution_count": null,
   "metadata": {},
   "outputs": [],
   "source": [
    "import numpy as np\n",
    "\n",
    "/*\n",
    "NumPy (Numerical Python) adalah library Python yang fokus pada scientific computing.\n",
    "\n",
    "Numpy menyediakan fungsi yang siap pakai untuk memudahkan melakukan perhitungan saintifik seperti matriks, aljabar, statistik, dan sebagainya.\n",
    "*/"
   ]
  },
  {
   "cell_type": "markdown",
   "metadata": {},
   "source": [
    "**5. Dengan memanfaatkan library numpy Buatlah matriks dengan menggunakan Library Numpy dengan panjang elemen adalah 32 dan matriks memiliki orde 4x8**"
   ]
  },
  {
   "cell_type": "code",
   "execution_count": 4,
   "metadata": {},
   "outputs": [
    {
     "name": "stdout",
     "output_type": "stream",
     "text": [
      "[[ 0  1  2  3  4  5  6  7]\n",
      " [ 8  9 10 11 12 13 14 15]\n",
      " [16 17 18 19 20 21 22 23]\n",
      " [24 25 26 27 28 29 30 31]]\n"
     ]
    }
   ],
   "source": [
    "import numpy as np\n",
    "\n",
    "m = 4 #baris\n",
    "n = 8 #kolom\n",
    "\n",
    "matriks = np.arange(m*n).reshape(m, n)\n",
    "\n",
    "print(matriks)"
   ]
  },
  {
   "cell_type": "markdown",
   "metadata": {},
   "source": [
    "**6. Buatlah matriks dengan menggunakan Library Numpy dengan orde 3x30, dan nilai elemen dimulai dari indeks 1 sampai dengan 5 secara random.**"
   ]
  },
  {
   "cell_type": "code",
   "execution_count": 9,
   "metadata": {},
   "outputs": [
    {
     "name": "stdout",
     "output_type": "stream",
     "text": [
      "[[2 3 3 3 3 2 1 4 2 1 1 4 2 3 2 3 4 3 2 3 3 4 1 2 4 1 2 2 1 2]\n",
      " [1 1 2 2 4 4 1 3 4 2 3 3 3 1 3 4 1 3 1 3 3 4 1 2 4 4 1 3 3 2]\n",
      " [3 2 3 1 2 4 2 1 2 3 3 4 3 3 2 1 2 2 3 2 3 1 3 2 1 4 4 2 2 3]]\n"
     ]
    }
   ],
   "source": [
    "import numpy as np\n",
    "\n",
    "m = 3  # baris\n",
    "n = 30  # kolom\n",
    "\n",
    "matriks_acak = np.random.randint(1, 5, size=(m, n))\n",
    "\n",
    "print(matriks_acak)"
   ]
  }
 ],
 "metadata": {
  "kernelspec": {
   "display_name": "Python 3",
   "language": "python",
   "name": "python3"
  },
  "language_info": {
   "codemirror_mode": {
    "name": "ipython",
    "version": 3
   },
   "file_extension": ".py",
   "mimetype": "text/x-python",
   "name": "python",
   "nbconvert_exporter": "python",
   "pygments_lexer": "ipython3",
   "version": "3.10.12"
  },
  "orig_nbformat": 4
 },
 "nbformat": 4,
 "nbformat_minor": 2
}
